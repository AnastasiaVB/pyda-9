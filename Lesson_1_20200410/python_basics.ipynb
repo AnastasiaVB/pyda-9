{
 "cells": [
  {
   "cell_type": "markdown",
   "metadata": {},
   "source": [
    "**Задание 1**. Даны 2 строки: *long_phrase* и *short_phrase*. \n",
    "Напишите код, который проверяет действительно ли длинная фраза *long_phrase* длиннее короткой *short_phrase*. И выводит *True* или *False* в зависимости от результата сравнения."
   ]
  },
  {
   "cell_type": "code",
   "execution_count": 1,
   "metadata": {},
   "outputs": [],
   "source": [
    "long_phrase = 'Насколько проще было бы писать программы, если бы не заказчики'\n",
    "short_phrase = '640Кб должно хватить для любых задач. Билл Гейтс (по легенде)'"
   ]
  },
  {
   "cell_type": "code",
   "execution_count": 2,
   "metadata": {},
   "outputs": [
    {
     "data": {
      "text/plain": [
       "True"
      ]
     },
     "execution_count": 2,
     "metadata": {},
     "output_type": "execute_result"
    }
   ],
   "source": [
    "len(long_phrase) > len(short_phrase)"
   ]
  },
  {
   "cell_type": "markdown",
   "metadata": {},
   "source": [
    "**Задание 2**. Дано значение объема файла в байтах (*в мегабайте 2^20 байт*). Напишите перевод этого значения в мегабайты в формате: \"*Объем файла равен 213.68Mb*\"."
   ]
  },
  {
   "cell_type": "code",
   "execution_count": 20,
   "metadata": {},
   "outputs": [
    {
     "name": "stdout",
     "output_type": "stream",
     "text": [
      "ОБъем файла равен 381.4697265625 Mb\n"
     ]
    }
   ],
   "source": [
    "b = 400000000\n",
    "mb = 0\n",
    "\n",
    "if b >= (2*20):\n",
    "    mb = b / 2**20\n",
    "print('ОБъем файла равен', mb, 'Mb')\n"
   ]
  },
  {
   "cell_type": "markdown",
   "metadata": {},
   "source": [
    "**Задание 3**. Разработать приложение для определения знака зодиака по дате рождения. Пример:\n",
    "\n",
    "Введите месяц: март\n",
    "\n",
    "Введите число: 6\n",
    "\n",
    "Вывод:\n",
    "Рыбы"
   ]
  },
  {
   "cell_type": "code",
   "execution_count": 23,
   "metadata": {},
   "outputs": [
    {
     "name": "stdout",
     "output_type": "stream",
     "text": [
      "Введите месяц:\n",
      "июль\n",
      "Введите число:\n",
      "15\n",
      "Рак\n"
     ]
    }
   ],
   "source": [
    "print('Введите месяц:')\n",
    "month = input()\n",
    "print('Введите число:')\n",
    "date = input()\n",
    "if (month == 'декабрь' and int(date) >= 22) or (month == 'январь' and int(date) <=19):\n",
    "    print('Козерог')\n",
    "elif (month == 'январь' and int(date) >= 20) or (month == 'февраль' and int(date) <=19):\n",
    "    print('Водолей')\n",
    "elif (month == 'февраль' and int(date) >= 20) or (month == 'март' and int(date) <=21):\n",
    "    print('Рыбы')\n",
    "elif (month == 'март' and int(date) >= 22) or (month == 'апрель' and int(date) <=21):\n",
    "    print('Овен')\n",
    "elif (month == 'апрель' and int(date) >= 22) or (month == 'май' and int(date) <=21):\n",
    "    print('Телец')\n",
    "elif (month == 'май' and int(date) >= 22) or (month == 'июнь' and int(date) <=21):\n",
    "    print('Близнецы')\n",
    "elif (month == 'июнь' and int(date) >= 22) or (month == 'июль' and int(date) <=21):\n",
    "    print('Рак')\n",
    "elif (month == 'июль' and int(date) >= 22) or (month == 'август' and int(date) <=21):\n",
    "    print('Лев')\n",
    "elif (month == 'август' and int(date) >= 22) or (month == 'сентябрь' and int(date) <=21):\n",
    "    print('Дева')\n",
    "elif (month == 'сентябрь' and int(date) >= 22) or (month == 'октябрь' and int(date) <=21):\n",
    "    print('Весы')\n",
    "elif (month == 'октябрь' and int(date) >= 22) or (month == 'ноябрь' and int(date) <=20):\n",
    "    print('Скорпион')\n",
    "elif (month == 'ноябрь' and int(date) >= 21) or (month == 'декабрь' and int(date) <=21):\n",
    "    print('Стрелец')"
   ]
  },
  {
   "cell_type": "markdown",
   "metadata": {},
   "source": [
    "**Задание 4**. Нужно разработать приложение для финансового планирования.\n",
    "Приложение учитывает сколько уходит на ипотеку, \"на жизнь\" и сколько нужно отложить на пенсию.\n",
    "Пользователь вводит:\n",
    "- заработанную плату в месяц.\n",
    "- сколько процентов от ЗП уходит на ипотеку.\n",
    "- сколько процентов от ЗП уходит \"на жизнь\".\n",
    "- сколько раз приходит премия в год.\n",
    "\n",
    "Остальная часть заработанной платы откладывается на пенсию.\n",
    "\n",
    "Также пользователю приходит премия в размере зарплаты, от которой половина уходит на отпуск, а вторая половина откладывается.\n",
    "\n",
    "Программа должна учитывать сколько премий было в год.\n",
    "\n",
    "Нужно вывести сколько денег тратит пользователь на ипотеку и сколько он накопит за год.\n",
    "\n",
    "Пример:\n",
    "\n",
    "Введите заработанную плату в месяц: 100000\n",
    "\n",
    "Введите сколько процентов уходит на ипотеку: 30\n",
    "\n",
    "Введите сколько процентов уходит на жизнь: 50\n",
    "\n",
    "Введите количество премий за год: 2\n",
    "\n",
    "Вывод:\n",
    "На ипотеку было потрачено: 360000 рублей\n",
    "Было накоплено: 340000 рублей"
   ]
  },
  {
   "cell_type": "code",
   "execution_count": 31,
   "metadata": {},
   "outputs": [
    {
     "name": "stdout",
     "output_type": "stream",
     "text": [
      "Введите заработную плату в месяц: \n",
      "100000\n",
      "Введите сколько процентов уходит на ипотеку: \n",
      "30\n",
      "Введите сколько процентов уходит на жизнь: \n",
      "50\n",
      "Введите количество премий за год: \n",
      "2\n",
      "На ипотеку было потрачено: 360000 рублей Было накоплено: 340000 рублей\n"
     ]
    }
   ],
   "source": [
    "print('Введите заработную плату в месяц: ')\n",
    "salary = int(input())\n",
    "print('Введите сколько процентов уходит на ипотеку: ')\n",
    "mortgage = int(input())\n",
    "print('Введите сколько процентов уходит на жизнь: ')\n",
    "forlife = int(input())\n",
    "print('Введите количество премий за год: ')\n",
    "bonus_qty = int(input())\n",
    "mortgage_per_year = 0\n",
    "savings = 0\n",
    "mortgage_per_year = salary * mortgage / 100 * 12\n",
    "savings = salary * 12 - mortgage_per_year - salary * forlife / 100 * 12 + salary * bonus_qty / 2\n",
    "print(f'На ипотеку было потрачено: {int(mortgage_per_year)} рублей Было накоплено: {int(savings)} рублей')"
   ]
  },
  {
   "cell_type": "code",
   "execution_count": null,
   "metadata": {},
   "outputs": [],
   "source": []
  }
 ],
 "metadata": {
  "kernelspec": {
   "display_name": "Python 3",
   "language": "python",
   "name": "python3"
  },
  "language_info": {
   "codemirror_mode": {
    "name": "ipython",
    "version": 3
   },
   "file_extension": ".py",
   "mimetype": "text/x-python",
   "name": "python",
   "nbconvert_exporter": "python",
   "pygments_lexer": "ipython3",
   "version": "3.7.6"
  }
 },
 "nbformat": 4,
 "nbformat_minor": 2
}
