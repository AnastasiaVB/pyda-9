{
 "cells": [
  {
   "cell_type": "markdown",
   "metadata": {},
   "source": [
    "Построить 5 графиков по выбранным данным. \n",
    "\n",
    "Графики должны быть различных видов и использовать хотя бы 2 из рассмотренных на занятии библиотек. \n",
    "\n",
    "Для каждого описать, какого типа переменные участвуют в визуализации, какова её цель (например, посмотреть на корреляцию двух величин или на распределение значений) и почему выбрали именно такой тип графика."
   ]
  },
  {
   "cell_type": "code",
   "execution_count": 1,
   "metadata": {},
   "outputs": [],
   "source": [
    "import pandas as pd\n",
    "import matplotlib.pyplot as plt"
   ]
  },
  {
   "cell_type": "markdown",
   "metadata": {},
   "source": [
    "Загрузка датасетов - данные по авиапассажиропотоку аэропортов России и данные по COVID19 в США"
   ]
  },
  {
   "cell_type": "code",
   "execution_count": 9,
   "metadata": {},
   "outputs": [
    {
     "data": {
      "text/html": [
       "<div>\n",
       "<style scoped>\n",
       "    .dataframe tbody tr th:only-of-type {\n",
       "        vertical-align: middle;\n",
       "    }\n",
       "\n",
       "    .dataframe tbody tr th {\n",
       "        vertical-align: top;\n",
       "    }\n",
       "\n",
       "    .dataframe thead th {\n",
       "        text-align: right;\n",
       "    }\n",
       "</style>\n",
       "<table border=\"1\" class=\"dataframe\">\n",
       "  <thead>\n",
       "    <tr style=\"text-align: right;\">\n",
       "      <th></th>\n",
       "      <th>Airport name</th>\n",
       "      <th>Year</th>\n",
       "      <th>January</th>\n",
       "      <th>February</th>\n",
       "      <th>March</th>\n",
       "      <th>April</th>\n",
       "      <th>May</th>\n",
       "      <th>June</th>\n",
       "      <th>July</th>\n",
       "      <th>August</th>\n",
       "      <th>September</th>\n",
       "      <th>October</th>\n",
       "      <th>November</th>\n",
       "      <th>December</th>\n",
       "      <th>Whole year</th>\n",
       "      <th>Airport coordinates</th>\n",
       "    </tr>\n",
       "  </thead>\n",
       "  <tbody>\n",
       "    <tr>\n",
       "      <th>0</th>\n",
       "      <td>Abakan</td>\n",
       "      <td>2020</td>\n",
       "      <td>13495.0</td>\n",
       "      <td>14940.0</td>\n",
       "      <td>0.0</td>\n",
       "      <td>0.0</td>\n",
       "      <td>0.0</td>\n",
       "      <td>0.0</td>\n",
       "      <td>0.0</td>\n",
       "      <td>0.0</td>\n",
       "      <td>0.0</td>\n",
       "      <td>0.0</td>\n",
       "      <td>0.0</td>\n",
       "      <td>0.0</td>\n",
       "      <td>0.0</td>\n",
       "      <td>(Decimal('91.399735'), Decimal('53.751351'))</td>\n",
       "    </tr>\n",
       "    <tr>\n",
       "      <th>1</th>\n",
       "      <td>Aikhal</td>\n",
       "      <td>2020</td>\n",
       "      <td>0.0</td>\n",
       "      <td>0.0</td>\n",
       "      <td>0.0</td>\n",
       "      <td>0.0</td>\n",
       "      <td>0.0</td>\n",
       "      <td>0.0</td>\n",
       "      <td>0.0</td>\n",
       "      <td>0.0</td>\n",
       "      <td>0.0</td>\n",
       "      <td>0.0</td>\n",
       "      <td>0.0</td>\n",
       "      <td>0.0</td>\n",
       "      <td>0.0</td>\n",
       "      <td>(Decimal('111.543324'), Decimal('65.957161'))</td>\n",
       "    </tr>\n",
       "    <tr>\n",
       "      <th>2</th>\n",
       "      <td>Loss</td>\n",
       "      <td>2020</td>\n",
       "      <td>0.0</td>\n",
       "      <td>0.0</td>\n",
       "      <td>0.0</td>\n",
       "      <td>0.0</td>\n",
       "      <td>0.0</td>\n",
       "      <td>0.0</td>\n",
       "      <td>0.0</td>\n",
       "      <td>0.0</td>\n",
       "      <td>0.0</td>\n",
       "      <td>0.0</td>\n",
       "      <td>0.0</td>\n",
       "      <td>0.0</td>\n",
       "      <td>0.0</td>\n",
       "      <td>(Decimal('125.398355'), Decimal('58.602489'))</td>\n",
       "    </tr>\n",
       "    <tr>\n",
       "      <th>3</th>\n",
       "      <td>Amderma</td>\n",
       "      <td>2020</td>\n",
       "      <td>0.0</td>\n",
       "      <td>0.0</td>\n",
       "      <td>0.0</td>\n",
       "      <td>0.0</td>\n",
       "      <td>0.0</td>\n",
       "      <td>0.0</td>\n",
       "      <td>0.0</td>\n",
       "      <td>0.0</td>\n",
       "      <td>0.0</td>\n",
       "      <td>0.0</td>\n",
       "      <td>0.0</td>\n",
       "      <td>0.0</td>\n",
       "      <td>0.0</td>\n",
       "      <td>(Decimal('61.577429'), Decimal('69.759076'))</td>\n",
       "    </tr>\n",
       "    <tr>\n",
       "      <th>4</th>\n",
       "      <td>Anadyr (Carbon)</td>\n",
       "      <td>2020</td>\n",
       "      <td>4255.0</td>\n",
       "      <td>4565.0</td>\n",
       "      <td>0.0</td>\n",
       "      <td>0.0</td>\n",
       "      <td>0.0</td>\n",
       "      <td>0.0</td>\n",
       "      <td>0.0</td>\n",
       "      <td>0.0</td>\n",
       "      <td>0.0</td>\n",
       "      <td>0.0</td>\n",
       "      <td>0.0</td>\n",
       "      <td>0.0</td>\n",
       "      <td>0.0</td>\n",
       "      <td>(Decimal('177.738273'), Decimal('64.713433'))</td>\n",
       "    </tr>\n",
       "  </tbody>\n",
       "</table>\n",
       "</div>"
      ],
      "text/plain": [
       "      Airport name  Year  January  February  March  April  May  June  July  \\\n",
       "0           Abakan  2020  13495.0   14940.0    0.0    0.0  0.0   0.0   0.0   \n",
       "1           Aikhal  2020      0.0       0.0    0.0    0.0  0.0   0.0   0.0   \n",
       "2             Loss  2020      0.0       0.0    0.0    0.0  0.0   0.0   0.0   \n",
       "3          Amderma  2020      0.0       0.0    0.0    0.0  0.0   0.0   0.0   \n",
       "4  Anadyr (Carbon)  2020   4255.0    4565.0    0.0    0.0  0.0   0.0   0.0   \n",
       "\n",
       "   August  September  October  November  December  Whole year  \\\n",
       "0     0.0        0.0      0.0       0.0       0.0         0.0   \n",
       "1     0.0        0.0      0.0       0.0       0.0         0.0   \n",
       "2     0.0        0.0      0.0       0.0       0.0         0.0   \n",
       "3     0.0        0.0      0.0       0.0       0.0         0.0   \n",
       "4     0.0        0.0      0.0       0.0       0.0         0.0   \n",
       "\n",
       "                             Airport coordinates  \n",
       "0   (Decimal('91.399735'), Decimal('53.751351'))  \n",
       "1  (Decimal('111.543324'), Decimal('65.957161'))  \n",
       "2  (Decimal('125.398355'), Decimal('58.602489'))  \n",
       "3   (Decimal('61.577429'), Decimal('69.759076'))  \n",
       "4  (Decimal('177.738273'), Decimal('64.713433'))  "
      ]
     },
     "execution_count": 9,
     "metadata": {},
     "output_type": "execute_result"
    }
   ],
   "source": [
    "air = pd.read_csv('russian_passenger_air_service_2.csv')\n",
    "air.head(5)\n",
    "# air['Year'].unique()"
   ]
  },
  {
   "cell_type": "code",
   "execution_count": 10,
   "metadata": {},
   "outputs": [
    {
     "data": {
      "text/html": [
       "<div>\n",
       "<style scoped>\n",
       "    .dataframe tbody tr th:only-of-type {\n",
       "        vertical-align: middle;\n",
       "    }\n",
       "\n",
       "    .dataframe tbody tr th {\n",
       "        vertical-align: top;\n",
       "    }\n",
       "\n",
       "    .dataframe thead th {\n",
       "        text-align: right;\n",
       "    }\n",
       "</style>\n",
       "<table border=\"1\" class=\"dataframe\">\n",
       "  <thead>\n",
       "    <tr style=\"text-align: right;\">\n",
       "      <th></th>\n",
       "      <th>date</th>\n",
       "      <th>county</th>\n",
       "      <th>state</th>\n",
       "      <th>fips</th>\n",
       "      <th>cases</th>\n",
       "      <th>deaths</th>\n",
       "    </tr>\n",
       "  </thead>\n",
       "  <tbody>\n",
       "    <tr>\n",
       "      <th>0</th>\n",
       "      <td>2020-01-21</td>\n",
       "      <td>Snohomish</td>\n",
       "      <td>Washington</td>\n",
       "      <td>53061.0</td>\n",
       "      <td>1</td>\n",
       "      <td>0</td>\n",
       "    </tr>\n",
       "    <tr>\n",
       "      <th>1</th>\n",
       "      <td>2020-01-22</td>\n",
       "      <td>Snohomish</td>\n",
       "      <td>Washington</td>\n",
       "      <td>53061.0</td>\n",
       "      <td>1</td>\n",
       "      <td>0</td>\n",
       "    </tr>\n",
       "    <tr>\n",
       "      <th>2</th>\n",
       "      <td>2020-01-23</td>\n",
       "      <td>Snohomish</td>\n",
       "      <td>Washington</td>\n",
       "      <td>53061.0</td>\n",
       "      <td>1</td>\n",
       "      <td>0</td>\n",
       "    </tr>\n",
       "    <tr>\n",
       "      <th>3</th>\n",
       "      <td>2020-01-24</td>\n",
       "      <td>Cook</td>\n",
       "      <td>Illinois</td>\n",
       "      <td>17031.0</td>\n",
       "      <td>1</td>\n",
       "      <td>0</td>\n",
       "    </tr>\n",
       "    <tr>\n",
       "      <th>4</th>\n",
       "      <td>2020-01-24</td>\n",
       "      <td>Snohomish</td>\n",
       "      <td>Washington</td>\n",
       "      <td>53061.0</td>\n",
       "      <td>1</td>\n",
       "      <td>0</td>\n",
       "    </tr>\n",
       "  </tbody>\n",
       "</table>\n",
       "</div>"
      ],
      "text/plain": [
       "         date     county       state     fips  cases  deaths\n",
       "0  2020-01-21  Snohomish  Washington  53061.0      1       0\n",
       "1  2020-01-22  Snohomish  Washington  53061.0      1       0\n",
       "2  2020-01-23  Snohomish  Washington  53061.0      1       0\n",
       "3  2020-01-24       Cook    Illinois  17031.0      1       0\n",
       "4  2020-01-24  Snohomish  Washington  53061.0      1       0"
      ]
     },
     "execution_count": 10,
     "metadata": {},
     "output_type": "execute_result"
    }
   ],
   "source": [
    "us = pd.read_csv('us-counties.csv')\n",
    "us.head(5)"
   ]
  },
  {
   "cell_type": "markdown",
   "metadata": {},
   "source": [
    "1\n",
    "\n",
    "На этой столбчатой диаграмме мы видим ТОП 5 штатов США по смертности от COVID19. Несмотря на то, что абсолютное число заболевших и погибших в Нью-Йорке выше, чем в других штатах, по смертности он не на первом месте.\n"
   ]
  },
  {
   "cell_type": "code",
   "execution_count": 43,
   "metadata": {},
   "outputs": [
    {
     "data": {
      "text/plain": [
       "<matplotlib.axes._subplots.AxesSubplot at 0x12736d610>"
      ]
     },
     "execution_count": 43,
     "metadata": {},
     "output_type": "execute_result"
    },
    {
     "data": {
      "image/png": "[encoded data removed]",
      "text/plain": [
       "<Figure size 432x288 with 1 Axes>"
      ]
     },
     "metadata": {
      "needs_background": "light"
     },
     "output_type": "display_data"
    }
   ],
   "source": [
    "us_stat = us.groupby('state').sum()\n",
    "us_stat['percentage'] = us_stat.deaths / us_stat.cases\n",
    "us_stat_bar = us_stat.sort_values(by='percentage').iloc[-5:, 3]\n",
    "us_stat_bar.plot(kind='barh',title='Нью-Йорк не на первом месте по смертности от COVID19')\n"
   ]
  },
  {
   "cell_type": "markdown",
   "metadata": {},
   "source": []
  },
  {
   "cell_type": "code",
   "execution_count": 142,
   "metadata": {},
   "outputs": [
    {
     "data": {
      "text/html": [
       "<div>\n",
       "<style scoped>\n",
       "    .dataframe tbody tr th:only-of-type {\n",
       "        vertical-align: middle;\n",
       "    }\n",
       "\n",
       "    .dataframe tbody tr th {\n",
       "        vertical-align: top;\n",
       "    }\n",
       "\n",
       "    .dataframe thead th {\n",
       "        text-align: right;\n",
       "    }\n",
       "</style>\n",
       "<table border=\"1\" class=\"dataframe\">\n",
       "  <thead>\n",
       "    <tr style=\"text-align: right;\">\n",
       "      <th></th>\n",
       "      <th>Airport name</th>\n",
       "      <th>Year</th>\n",
       "      <th>01</th>\n",
       "      <th>02</th>\n",
       "      <th>03</th>\n",
       "      <th>04</th>\n",
       "      <th>05</th>\n",
       "      <th>06</th>\n",
       "      <th>07</th>\n",
       "      <th>08</th>\n",
       "      <th>09</th>\n",
       "      <th>10</th>\n",
       "      <th>11</th>\n",
       "      <th>12</th>\n",
       "      <th>Whole year</th>\n",
       "      <th>Airport coordinates</th>\n",
       "    </tr>\n",
       "  </thead>\n",
       "  <tbody>\n",
       "    <tr>\n",
       "      <th>250</th>\n",
       "      <td>Abakan</td>\n",
       "      <td>2019</td>\n",
       "      <td>12571.0</td>\n",
       "      <td>11563.0</td>\n",
       "      <td>12427.0</td>\n",
       "      <td>13023.0</td>\n",
       "      <td>16641.0</td>\n",
       "      <td>22758.0</td>\n",
       "      <td>27883.0</td>\n",
       "      <td>27391.0</td>\n",
       "      <td>19478.0</td>\n",
       "      <td>16155.0</td>\n",
       "      <td>14745.0</td>\n",
       "      <td>89.8</td>\n",
       "      <td>209772.0</td>\n",
       "      <td>(Decimal('91.399735'), Decimal('53.751351'))</td>\n",
       "    </tr>\n",
       "    <tr>\n",
       "      <th>251</th>\n",
       "      <td>Aikhal</td>\n",
       "      <td>2019</td>\n",
       "      <td>0.0</td>\n",
       "      <td>0.0</td>\n",
       "      <td>0.0</td>\n",
       "      <td>0.0</td>\n",
       "      <td>0.0</td>\n",
       "      <td>0.0</td>\n",
       "      <td>0.0</td>\n",
       "      <td>0.0</td>\n",
       "      <td>0.0</td>\n",
       "      <td>0.0</td>\n",
       "      <td>0.0</td>\n",
       "      <td>0.0</td>\n",
       "      <td>0.0</td>\n",
       "      <td>(Decimal('111.543324'), Decimal('65.957161'))</td>\n",
       "    </tr>\n",
       "    <tr>\n",
       "      <th>252</th>\n",
       "      <td>Loss</td>\n",
       "      <td>2019</td>\n",
       "      <td>0.0</td>\n",
       "      <td>0.0</td>\n",
       "      <td>0.0</td>\n",
       "      <td>0.0</td>\n",
       "      <td>0.0</td>\n",
       "      <td>0.0</td>\n",
       "      <td>0.0</td>\n",
       "      <td>0.0</td>\n",
       "      <td>0.0</td>\n",
       "      <td>0.0</td>\n",
       "      <td>0.0</td>\n",
       "      <td>0.0</td>\n",
       "      <td>0.0</td>\n",
       "      <td>(Decimal('125.398355'), Decimal('58.602489'))</td>\n",
       "    </tr>\n",
       "    <tr>\n",
       "      <th>253</th>\n",
       "      <td>Amderma</td>\n",
       "      <td>2019</td>\n",
       "      <td>0.0</td>\n",
       "      <td>0.0</td>\n",
       "      <td>0.0</td>\n",
       "      <td>0.0</td>\n",
       "      <td>0.0</td>\n",
       "      <td>0.0</td>\n",
       "      <td>0.0</td>\n",
       "      <td>0.0</td>\n",
       "      <td>0.0</td>\n",
       "      <td>0.0</td>\n",
       "      <td>0.0</td>\n",
       "      <td>0.0</td>\n",
       "      <td>0.0</td>\n",
       "      <td>(Decimal('61.577429'), Decimal('69.759076'))</td>\n",
       "    </tr>\n",
       "    <tr>\n",
       "      <th>254</th>\n",
       "      <td>Anadyr (Carbon)</td>\n",
       "      <td>2019</td>\n",
       "      <td>3785.0</td>\n",
       "      <td>3916.0</td>\n",
       "      <td>5061.0</td>\n",
       "      <td>7169.0</td>\n",
       "      <td>8601.0</td>\n",
       "      <td>10464.0</td>\n",
       "      <td>13569.0</td>\n",
       "      <td>13429.0</td>\n",
       "      <td>11190.0</td>\n",
       "      <td>8370.0</td>\n",
       "      <td>7144.0</td>\n",
       "      <td>199.0</td>\n",
       "      <td>102129.0</td>\n",
       "      <td>(Decimal('177.738273'), Decimal('64.713433'))</td>\n",
       "    </tr>\n",
       "  </tbody>\n",
       "</table>\n",
       "</div>"
      ],
      "text/plain": [
       "        Airport name  Year       01       02       03       04       05  \\\n",
       "250           Abakan  2019  12571.0  11563.0  12427.0  13023.0  16641.0   \n",
       "251           Aikhal  2019      0.0      0.0      0.0      0.0      0.0   \n",
       "252             Loss  2019      0.0      0.0      0.0      0.0      0.0   \n",
       "253          Amderma  2019      0.0      0.0      0.0      0.0      0.0   \n",
       "254  Anadyr (Carbon)  2019   3785.0   3916.0   5061.0   7169.0   8601.0   \n",
       "\n",
       "          06       07       08       09       10       11     12  Whole year  \\\n",
       "250  22758.0  27883.0  27391.0  19478.0  16155.0  14745.0   89.8    209772.0   \n",
       "251      0.0      0.0      0.0      0.0      0.0      0.0    0.0         0.0   \n",
       "252      0.0      0.0      0.0      0.0      0.0      0.0    0.0         0.0   \n",
       "253      0.0      0.0      0.0      0.0      0.0      0.0    0.0         0.0   \n",
       "254  10464.0  13569.0  13429.0  11190.0   8370.0   7144.0  199.0    102129.0   \n",
       "\n",
       "                               Airport coordinates  \n",
       "250   (Decimal('91.399735'), Decimal('53.751351'))  \n",
       "251  (Decimal('111.543324'), Decimal('65.957161'))  \n",
       "252  (Decimal('125.398355'), Decimal('58.602489'))  \n",
       "253   (Decimal('61.577429'), Decimal('69.759076'))  \n",
       "254  (Decimal('177.738273'), Decimal('64.713433'))  "
      ]
     },
     "execution_count": 142,
     "metadata": {},
     "output_type": "execute_result"
    }
   ],
   "source": [
    "air2 = air.rename(columns={'January':'01','February':'02','March':'03','April':'04','May':'05','June':'06','July':'07','August':'08','September':'09','October':'10','November':'11','December':'12'})\n",
    "\n",
    "air3 = air2[air2['Year'] != 2020]\n",
    "air3.head()"
   ]
  },
  {
   "cell_type": "code",
   "execution_count": 143,
   "metadata": {},
   "outputs": [
    {
     "data": {
      "text/html": [
       "<div>\n",
       "<style scoped>\n",
       "    .dataframe tbody tr th:only-of-type {\n",
       "        vertical-align: middle;\n",
       "    }\n",
       "\n",
       "    .dataframe tbody tr th {\n",
       "        vertical-align: top;\n",
       "    }\n",
       "\n",
       "    .dataframe thead th {\n",
       "        text-align: right;\n",
       "    }\n",
       "</style>\n",
       "<table border=\"1\" class=\"dataframe\">\n",
       "  <thead>\n",
       "    <tr style=\"text-align: right;\">\n",
       "      <th></th>\n",
       "      <th>Month</th>\n",
       "      <th>Value</th>\n",
       "    </tr>\n",
       "  </thead>\n",
       "  <tbody>\n",
       "    <tr>\n",
       "      <th>0</th>\n",
       "      <td>01</td>\n",
       "      <td>12571.0</td>\n",
       "    </tr>\n",
       "    <tr>\n",
       "      <th>1</th>\n",
       "      <td>01</td>\n",
       "      <td>0.0</td>\n",
       "    </tr>\n",
       "    <tr>\n",
       "      <th>2</th>\n",
       "      <td>01</td>\n",
       "      <td>0.0</td>\n",
       "    </tr>\n",
       "    <tr>\n",
       "      <th>3</th>\n",
       "      <td>01</td>\n",
       "      <td>0.0</td>\n",
       "    </tr>\n",
       "    <tr>\n",
       "      <th>4</th>\n",
       "      <td>01</td>\n",
       "      <td>3785.0</td>\n",
       "    </tr>\n",
       "  </tbody>\n",
       "</table>\n",
       "</div>"
      ],
      "text/plain": [
       "  Month    Value\n",
       "0    01  12571.0\n",
       "1    01      0.0\n",
       "2    01      0.0\n",
       "3    01      0.0\n",
       "4    01   3785.0"
      ]
     },
     "execution_count": 143,
     "metadata": {},
     "output_type": "execute_result"
    }
   ],
   "source": [
    "melted = air3.melt(id_vars=['Airport name','Year'],var_name='Month',value_name='Value')\n",
    "melted['Value'] = pd.to_numeric(melted['Value'], errors='coerce')\n",
    "# melted.info()\n",
    "# melted.head()\n",
    "melted1 = melted.iloc[:,2:]\n",
    "melted1.head()"
   ]
  },
  {
   "cell_type": "markdown",
   "metadata": {},
   "source": [
    "2\n",
    "\n",
    "На этом графике показана сезонность трафика Российских аэропортов с 2007 по 2019 года. \n",
    "\n",
    "Мы видим увеличение потока почти в 2 раза в сезон летних отпусков и резкое падение в декабре, что возможно связано с повышенными ценами на билеты, а также традицией встречать новый год дома, либо данные пропущены и некорректны."
   ]
  },
  {
   "cell_type": "code",
   "execution_count": 144,
   "metadata": {},
   "outputs": [
    {
     "data": {
      "image/png": "[encoded data removed]",
      "text/plain": [
       "<Figure size 432x288 with 1 Axes>"
      ]
     },
     "metadata": {
      "needs_background": "light"
     },
     "output_type": "display_data"
    }
   ],
   "source": [
    "melted2 = melted1.groupby('Month').sum().reset_index().sort_values(by=['Month'], ascending=True).iloc[:-2,:]\n",
    "melted2\n",
    "plt.plot(melted2['Month'],melted2['Value'])\n",
    "plt.show()"
   ]
  },
  {
   "cell_type": "markdown",
   "metadata": {},
   "source": []
  },
  {
   "cell_type": "code",
   "execution_count": 218,
   "metadata": {},
   "outputs": [
    {
     "data": {
      "text/html": [
       "<div>\n",
       "<style scoped>\n",
       "    .dataframe tbody tr th:only-of-type {\n",
       "        vertical-align: middle;\n",
       "    }\n",
       "\n",
       "    .dataframe tbody tr th {\n",
       "        vertical-align: top;\n",
       "    }\n",
       "\n",
       "    .dataframe thead th {\n",
       "        text-align: right;\n",
       "    }\n",
       "</style>\n",
       "<table border=\"1\" class=\"dataframe\">\n",
       "  <thead>\n",
       "    <tr style=\"text-align: right;\">\n",
       "      <th></th>\n",
       "      <th>state</th>\n",
       "      <th>county</th>\n",
       "      <th>fips</th>\n",
       "      <th>cases</th>\n",
       "      <th>deaths</th>\n",
       "    </tr>\n",
       "  </thead>\n",
       "  <tbody>\n",
       "    <tr>\n",
       "      <th>202</th>\n",
       "      <td>California</td>\n",
       "      <td>Los Angeles</td>\n",
       "      <td>827069.0</td>\n",
       "      <td>2166527</td>\n",
       "      <td>95885</td>\n",
       "    </tr>\n",
       "    <tr>\n",
       "      <th>603</th>\n",
       "      <td>Illinois</td>\n",
       "      <td>Cook</td>\n",
       "      <td>2367309.0</td>\n",
       "      <td>3268804</td>\n",
       "      <td>145579</td>\n",
       "    </tr>\n",
       "    <tr>\n",
       "      <th>1209</th>\n",
       "      <td>Massachusetts</td>\n",
       "      <td>Middlesex</td>\n",
       "      <td>2451666.0</td>\n",
       "      <td>1030779</td>\n",
       "      <td>67477</td>\n",
       "    </tr>\n",
       "    <tr>\n",
       "      <th>1297</th>\n",
       "      <td>Michigan</td>\n",
       "      <td>Wayne</td>\n",
       "      <td>2433159.0</td>\n",
       "      <td>1171238</td>\n",
       "      <td>121994</td>\n",
       "    </tr>\n",
       "    <tr>\n",
       "      <th>1714</th>\n",
       "      <td>New Jersey</td>\n",
       "      <td>Bergen</td>\n",
       "      <td>3366297.0</td>\n",
       "      <td>1057289</td>\n",
       "      <td>78431</td>\n",
       "    </tr>\n",
       "    <tr>\n",
       "      <th>1721</th>\n",
       "      <td>New Jersey</td>\n",
       "      <td>Hudson</td>\n",
       "      <td>3197598.0</td>\n",
       "      <td>990153</td>\n",
       "      <td>55011</td>\n",
       "    </tr>\n",
       "    <tr>\n",
       "      <th>2222</th>\n",
       "      <td>Pennsylvania</td>\n",
       "      <td>Philadelphia</td>\n",
       "      <td>3915393.0</td>\n",
       "      <td>1074441</td>\n",
       "      <td>53538</td>\n",
       "    </tr>\n",
       "  </tbody>\n",
       "</table>\n",
       "</div>"
      ],
      "text/plain": [
       "              state        county       fips    cases  deaths\n",
       "202      California   Los Angeles   827069.0  2166527   95885\n",
       "603        Illinois          Cook  2367309.0  3268804  145579\n",
       "1209  Massachusetts     Middlesex  2451666.0  1030779   67477\n",
       "1297       Michigan         Wayne  2433159.0  1171238  121994\n",
       "1714     New Jersey        Bergen  3366297.0  1057289   78431\n",
       "1721     New Jersey        Hudson  3197598.0   990153   55011\n",
       "2222   Pennsylvania  Philadelphia  3915393.0  1074441   53538"
      ]
     },
     "execution_count": 218,
     "metadata": {},
     "output_type": "execute_result"
    }
   ],
   "source": [
    "us.head(5)\n",
    "us1 = us.groupby(['state','county']).sum().reset_index()\n",
    "us2 = us1[(us1['cases'] > 950000) & (us1.state != 'New York')]\n",
    "# us2.info()\n",
    "us2"
   ]
  },
  {
   "cell_type": "markdown",
   "metadata": {},
   "source": [
    "3 \n",
    "\n",
    "На следующем точечном графике видно, какие округи США (за исключением расположенных в штате Нью-Йорк как наиболее вероятных) могут стать следующим местом выспышки заболевания. \n",
    "\n",
    "Cook (Illinois) - 2ой по густонаселенности после Лос-Анжелеса\n",
    "Wayne (Michigan) - центр округа - город Детройт с большим количеством проживающих афроамериканцев\n",
    "Los Angeles (California) - самый густонаселенный округ США\n",
    "Bergen (New Jersey) - самый густонаселенный округ штата Нью-Джерси, находится рядом с Нью-Йорком"
   ]
  },
  {
   "cell_type": "code",
   "execution_count": 219,
   "metadata": {},
   "outputs": [
    {
     "data": {
      "text/plain": [
       "<matplotlib.collections.PathCollection at 0x12e355a90>"
      ]
     },
     "execution_count": 219,
     "metadata": {},
     "output_type": "execute_result"
    },
    {
     "data": {
      "image/png": "[encoded data removed]",
      "text/plain": [
       "<Figure size 432x288 with 1 Axes>"
      ]
     },
     "metadata": {
      "needs_background": "light"
     },
     "output_type": "display_data"
    }
   ],
   "source": [
    "plt.scatter(us2.deaths, us2.county)"
   ]
  },
  {
   "cell_type": "markdown",
   "metadata": {},
   "source": []
  },
  {
   "cell_type": "markdown",
   "metadata": {},
   "source": [
    "4\n",
    "\n",
    "На этом графике я показываю ежедневную динамику диагностирования COVID-19 в США. \n",
    "\n",
    "Мы видим, что резкое увеличение количества заболевших началось в конце марта. Как увеличить график и подписи я не смогла разобраться :("
   ]
  },
  {
   "cell_type": "code",
   "execution_count": 191,
   "metadata": {},
   "outputs": [
    {
     "data": {
      "text/plain": [
       "<matplotlib.axes._subplots.AxesSubplot at 0x12cb83410>"
      ]
     },
     "execution_count": 191,
     "metadata": {},
     "output_type": "execute_result"
    },
    {
     "data": {
      "image/png": "[encoded data removed]",
      "text/plain": [
       "<Figure size 432x288 with 1 Axes>"
      ]
     },
     "metadata": {
      "needs_background": "light"
     },
     "output_type": "display_data"
    }
   ],
   "source": [
    "us0 = us[us['date'] > '2020-02-15']\n",
    "us1 = us0.groupby('date')['cases'].sum()\n",
    "us1.plot(kind='bar', rot = 45, stacked=True)"
   ]
  },
  {
   "cell_type": "markdown",
   "metadata": {},
   "source": []
  },
  {
   "cell_type": "code",
   "execution_count": 276,
   "metadata": {},
   "outputs": [
    {
     "data": {
      "text/html": [
       "<div>\n",
       "<style scoped>\n",
       "    .dataframe tbody tr th:only-of-type {\n",
       "        vertical-align: middle;\n",
       "    }\n",
       "\n",
       "    .dataframe tbody tr th {\n",
       "        vertical-align: top;\n",
       "    }\n",
       "\n",
       "    .dataframe thead th {\n",
       "        text-align: right;\n",
       "    }\n",
       "</style>\n",
       "<table border=\"1\" class=\"dataframe\">\n",
       "  <thead>\n",
       "    <tr style=\"text-align: right;\">\n",
       "      <th></th>\n",
       "      <th>Year</th>\n",
       "      <th>January</th>\n",
       "      <th>February</th>\n",
       "      <th>March</th>\n",
       "      <th>April</th>\n",
       "      <th>May</th>\n",
       "      <th>June</th>\n",
       "      <th>July</th>\n",
       "      <th>August</th>\n",
       "      <th>September</th>\n",
       "      <th>October</th>\n",
       "      <th>November</th>\n",
       "      <th>December</th>\n",
       "      <th>Whole year</th>\n",
       "    </tr>\n",
       "    <tr>\n",
       "      <th>Airport name</th>\n",
       "      <th></th>\n",
       "      <th></th>\n",
       "      <th></th>\n",
       "      <th></th>\n",
       "      <th></th>\n",
       "      <th></th>\n",
       "      <th></th>\n",
       "      <th></th>\n",
       "      <th></th>\n",
       "      <th></th>\n",
       "      <th></th>\n",
       "      <th></th>\n",
       "      <th></th>\n",
       "      <th></th>\n",
       "    </tr>\n",
       "  </thead>\n",
       "  <tbody>\n",
       "    <tr>\n",
       "      <th>Krasnodar (Paszkowski)</th>\n",
       "      <td>2019</td>\n",
       "      <td>310912.0</td>\n",
       "      <td>269665.0</td>\n",
       "      <td>319319.0</td>\n",
       "      <td>360914.0</td>\n",
       "      <td>403364.0</td>\n",
       "      <td>425943.0</td>\n",
       "      <td>473843.0</td>\n",
       "      <td>489943.0</td>\n",
       "      <td>442423.0</td>\n",
       "      <td>410965.0</td>\n",
       "      <td>373861.0</td>\n",
       "      <td>639.68</td>\n",
       "      <td>4630770.0</td>\n",
       "    </tr>\n",
       "    <tr>\n",
       "      <th>Ufa</th>\n",
       "      <td>2019</td>\n",
       "      <td>236704.0</td>\n",
       "      <td>204548.0</td>\n",
       "      <td>245798.0</td>\n",
       "      <td>253361.0</td>\n",
       "      <td>322258.0</td>\n",
       "      <td>339687.0</td>\n",
       "      <td>366716.0</td>\n",
       "      <td>367994.0</td>\n",
       "      <td>339334.0</td>\n",
       "      <td>321862.0</td>\n",
       "      <td>275884.0</td>\n",
       "      <td>423.33</td>\n",
       "      <td>3556533.0</td>\n",
       "    </tr>\n",
       "    <tr>\n",
       "      <th>Vladivostok (Knevichi)</th>\n",
       "      <td>2019</td>\n",
       "      <td>200824.0</td>\n",
       "      <td>192686.0</td>\n",
       "      <td>214262.0</td>\n",
       "      <td>216411.0</td>\n",
       "      <td>248751.0</td>\n",
       "      <td>276740.0</td>\n",
       "      <td>335918.0</td>\n",
       "      <td>365140.0</td>\n",
       "      <td>302346.0</td>\n",
       "      <td>283536.0</td>\n",
       "      <td>223592.0</td>\n",
       "      <td>2206.11</td>\n",
       "      <td>3079344.0</td>\n",
       "    </tr>\n",
       "    <tr>\n",
       "      <th>Samara (Kurumoch)</th>\n",
       "      <td>2019</td>\n",
       "      <td>191566.0</td>\n",
       "      <td>172693.0</td>\n",
       "      <td>209237.0</td>\n",
       "      <td>213873.0</td>\n",
       "      <td>280316.0</td>\n",
       "      <td>295448.0</td>\n",
       "      <td>321047.0</td>\n",
       "      <td>318637.0</td>\n",
       "      <td>298567.0</td>\n",
       "      <td>270058.0</td>\n",
       "      <td>216584.0</td>\n",
       "      <td>306.81</td>\n",
       "      <td>2999252.0</td>\n",
       "    </tr>\n",
       "    <tr>\n",
       "      <th>Mineral water</th>\n",
       "      <td>2019</td>\n",
       "      <td>175830.0</td>\n",
       "      <td>155575.0</td>\n",
       "      <td>179483.0</td>\n",
       "      <td>191407.0</td>\n",
       "      <td>228967.0</td>\n",
       "      <td>228486.0</td>\n",
       "      <td>262486.0</td>\n",
       "      <td>268710.0</td>\n",
       "      <td>243432.0</td>\n",
       "      <td>233202.0</td>\n",
       "      <td>182557.0</td>\n",
       "      <td>161.39</td>\n",
       "      <td>2526419.0</td>\n",
       "    </tr>\n",
       "  </tbody>\n",
       "</table>\n",
       "</div>"
      ],
      "text/plain": [
       "                        Year   January  February     March     April  \\\n",
       "Airport name                                                           \n",
       "Krasnodar (Paszkowski)  2019  310912.0  269665.0  319319.0  360914.0   \n",
       "Ufa                     2019  236704.0  204548.0  245798.0  253361.0   \n",
       "Vladivostok (Knevichi)  2019  200824.0  192686.0  214262.0  216411.0   \n",
       "Samara (Kurumoch)       2019  191566.0  172693.0  209237.0  213873.0   \n",
       "Mineral water           2019  175830.0  155575.0  179483.0  191407.0   \n",
       "\n",
       "                             May      June      July    August  September  \\\n",
       "Airport name                                                                \n",
       "Krasnodar (Paszkowski)  403364.0  425943.0  473843.0  489943.0   442423.0   \n",
       "Ufa                     322258.0  339687.0  366716.0  367994.0   339334.0   \n",
       "Vladivostok (Knevichi)  248751.0  276740.0  335918.0  365140.0   302346.0   \n",
       "Samara (Kurumoch)       280316.0  295448.0  321047.0  318637.0   298567.0   \n",
       "Mineral water           228967.0  228486.0  262486.0  268710.0   243432.0   \n",
       "\n",
       "                         October  November  December  Whole year  \n",
       "Airport name                                                      \n",
       "Krasnodar (Paszkowski)  410965.0  373861.0    639.68   4630770.0  \n",
       "Ufa                     321862.0  275884.0    423.33   3556533.0  \n",
       "Vladivostok (Knevichi)  283536.0  223592.0   2206.11   3079344.0  \n",
       "Samara (Kurumoch)       270058.0  216584.0    306.81   2999252.0  \n",
       "Mineral water           233202.0  182557.0    161.39   2526419.0  "
      ]
     },
     "execution_count": 276,
     "metadata": {},
     "output_type": "execute_result"
    }
   ],
   "source": [
    "airports = ['Moscow (Sheremetyevo)','Moscow (Domodedovo)','Moscow (Vnukovo)','Saint Petersburg (Pulkovo)','Sochi','Novosibirsk (Tolmachyovo)','Ekaterinburg (Koltsovo)']\n",
    "air1 = air[(air['Year'] == 2019) & (air['Whole year'] != 0) & (~air['Airport name'].isin(airports))].head(5)\n",
    "# air1.head()\n",
    "# air1.plot(kind='pie', y='Whole year')\n",
    "# air2 = air1.groupby(['Airport name']).sum().sort_values(by='Whole year', ascending=False).head(5)\n",
    "# air2 = air1[['Airport name','Whole year']].sort_values(by='Whole year', ascending=False).reset_index(drop=True).iloc[:5,:]\n",
    "air2"
   ]
  },
  {
   "cell_type": "markdown",
   "metadata": {},
   "source": [
    "5\n",
    "\n",
    "На этом графике мы видим 5 самых популярных аэропортов России (за исключением Москвы, Санкт-Петербурга, Новосибирска и Екатеринбурга) и они загружены примерно ровно."
   ]
  },
  {
   "cell_type": "code",
   "execution_count": 277,
   "metadata": {},
   "outputs": [
    {
     "data": {
      "text/plain": [
       "<matplotlib.axes._subplots.AxesSubplot at 0x1a31ee5290>"
      ]
     },
     "execution_count": 277,
     "metadata": {},
     "output_type": "execute_result"
    },
    {
     "data": {
      "image/png": "[encoded data removed]",
      "text/plain": [
       "<Figure size 432x288 with 1 Axes>"
      ]
     },
     "metadata": {},
     "output_type": "display_data"
    }
   ],
   "source": [
    "air2.plot(kind='pie', y='Whole year')"
   ]
  },
  {
   "cell_type": "code",
   "execution_count": null,
   "metadata": {},
   "outputs": [],
   "source": []
  }
 ],
 "metadata": {
  "kernelspec": {
   "display_name": "Python 3",
   "language": "python",
   "name": "python3"
  },
  "language_info": {
   "codemirror_mode": {
    "name": "ipython",
    "version": 3
   },
   "file_extension": ".py",
   "mimetype": "text/x-python",
   "name": "python",
   "nbconvert_exporter": "python",
   "pygments_lexer": "ipython3",
   "version": "3.7.6"
  }
 },
 "nbformat": 4,
 "nbformat_minor": 4
}
