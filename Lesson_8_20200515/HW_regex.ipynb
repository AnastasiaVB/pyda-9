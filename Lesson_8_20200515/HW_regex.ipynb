{
 "cells": [
  {
   "cell_type": "markdown",
   "metadata": {},
   "source": [
    "Задание 1.\n",
    "Напишите функцию, которая принимает на вход строку и проверяет является ли она валидным транспортным номером. Если да, то функция должна возвращать отдельно номер и регион."
   ]
  },
  {
   "cell_type": "code",
   "execution_count": 7,
   "metadata": {},
   "outputs": [
    {
     "name": "stdout",
     "output_type": "stream",
     "text": [
      "Введите номер автомобиля: A987HT777\n"
     ]
    },
    {
     "data": {
      "text/plain": [
       "'Номер автомобиля: A987HT, регион: 777'"
      ]
     },
     "execution_count": 7,
     "metadata": {},
     "output_type": "execute_result"
    }
   ],
   "source": [
    "import re\n",
    "# car_num = 'С123НТ197, М345МТ77, a001op50, Z765MO150, Е23КТ97'\n",
    "\n",
    "def valid_car_number():\n",
    "    car_num = input('Введите номер автомобиля: ')\n",
    "    valid_num = r'[АВЕКМНОРСТУХавекмнорстухABEKMHOPCTYXaekopcyx]\\d{3}[АВЕКМНОРСТУХавекмнорстухABEKMHOPCTYXaekopcyx]{2}\\d{2,3}'\n",
    "    if re.findall(valid_num, car_num):\n",
    "        return(f'Номер автомобиля: {car_num[:6]}, регион: {car_num[6:]}')\n",
    "    else:\n",
    "        return('Номер введен неверно')\n",
    "    \n",
    "valid_car_number()"
   ]
  },
  {
   "cell_type": "markdown",
   "metadata": {},
   "source": [
    "Задание 2.\n",
    "Постарайтесь написать (в крайнем случае найти) самый полный шаблон для проверки e-mail адресов через регулярное выражение, которая проверяет e-mail адрес на валидность. Можно руководствоваться следующими минимальными требованиями:\n",
    "• адрес должен содержать специальный символ “@”, который отделяет имя пользователя почтовой системы от доменного имени;\n",
    "• адрес не должен содержать следующие символы: “пробел”, “,”, “:”, “;”, “!”, “#”, “%”, “*”, “(”, “)”, “=”, “+”, “{”, “}”, \" \" \", \" ’ \", \" / \", \" \\ \" и “|”;\n",
    "• адрес должен состоять только из латинских символов;\n",
    "• после символа “@” должна быть как минимум одна “.”;\n",
    "• после последней точки должно быть не менее 2-х и не более 4-х символов, причем наличие цифр не допускается;\n",
    "• между последней точкой и символом “@” должно быть не менее 2-х символов\n",
    "• слева от “@” должно быть не менее четырех символов"
   ]
  },
  {
   "cell_type": "code",
   "execution_count": 1,
   "metadata": {},
   "outputs": [
    {
     "data": {
      "text/plain": [
       "['anastasia.basmanova@gmail.com']"
      ]
     },
     "execution_count": 1,
     "metadata": {},
     "output_type": "execute_result"
    }
   ],
   "source": [
    "import re\n",
    "\n",
    "email = 'anastasia.basmanova@gmail.com'\n",
    "email_is_valid = r'^[a-zA-Z0-9.]+[a-zA-Z0-9]{4,}@[a-zA-Z0-9.]{2,}\\.[a-zA-Z]{2,4}$'\n",
    "\n",
    "re.findall(email_is_valid, email)\n"
   ]
  },
  {
   "cell_type": "markdown",
   "metadata": {},
   "source": [
    "**Задание 3. **\n",
    "Напишите функцию, которая будет удалять все последовательные повторы слов из заданной строки при помощи регулярных выражений."
   ]
  },
  {
   "cell_type": "code",
   "execution_count": 63,
   "metadata": {},
   "outputs": [
    {
     "data": {
      "text/plain": [
       "'В этой строке есть дубли. And here as well of course'"
      ]
     },
     "execution_count": 63,
     "metadata": {},
     "output_type": "execute_result"
    }
   ],
   "source": [
    "def delete_duplicates():\n",
    "    line = 'В этой этой строке есть есть дубли дубли. And and here as well well well of course'\n",
    "    new_line = re.sub(r'(?i)(\\b[а-яёА-ЯЁa-zA-Z]+)(\\s+\\1)+\\b', r'\\1', line)\n",
    "    return(new_line)\n",
    "\n",
    "delete_duplicates()"
   ]
  },
  {
   "cell_type": "markdown",
   "metadata": {},
   "source": [
    "Задание 4.\n",
    "Напишите функцию, которая будет проверять номер сотового телефона на валидность, если он валиден, то переводить его в формат:\n",
    "+7(xxx)-xxx-xx-xx\n",
    "​\n",
    "Постарайтесь предусмотреть как можно больше адекватных форматов изначального ввода номера. Примеры валидных форматов:\n",
    "​\n",
    "• +7 955 555-55-55;\n",
    "• 9555555555;\n",
    "• 8(955)555-55-55;\n",
    "• +7 955 555 55 55;\n",
    "• 7(955) 555-55-55;\n",
    "• +7 955+555+55+55."
   ]
  },
  {
   "cell_type": "code",
   "execution_count": 57,
   "metadata": {},
   "outputs": [
    {
     "data": {
      "text/plain": [
       "'+7(955)-555-55-55,+7(955)-555-55-55, +7(955)-555-55-55, +7(955)-555-55-55, +7(955)-555-55-55, +7(955)-555-55-55'"
      ]
     },
     "execution_count": 57,
     "metadata": {},
     "output_type": "execute_result"
    }
   ],
   "source": [
    "import re\n",
    "\n",
    "nums = '+7 955 555-55-55, 9555555555, 8(955)555-55-55, +7 955 555 55 55, 7(955) 555-55-55, +7 955+555+55+55'\n",
    "\n",
    "# pattern = r'\\+?[78]?[\\s(]?(\\d{3})[\\s+)]?\\s?(\\d{3})[\\s+-]?(\\d{2})[\\s)+-]?(\\d{2})'\n",
    "\n",
    "re.findall(pattern, nums)\n",
    "re.sub(pattern, r'+7(\\1)-\\2-\\3-\\4',nums)"
   ]
  },
  {
   "cell_type": "code",
   "execution_count": null,
   "metadata": {},
   "outputs": [],
   "source": []
  }
 ],
 "metadata": {
  "kernelspec": {
   "display_name": "Python 3",
   "language": "python",
   "name": "python3"
  },
  "language_info": {
   "codemirror_mode": {
    "name": "ipython",
    "version": 3
   },
   "file_extension": ".py",
   "mimetype": "text/x-python",
   "name": "python",
   "nbconvert_exporter": "python",
   "pygments_lexer": "ipython3",
   "version": "3.7.6"
  }
 },
 "nbformat": 4,
 "nbformat_minor": 4
}
