{
 "cells": [
  {
   "cell_type": "markdown",
   "metadata": {},
   "source": [
    "Задание 1\n",
    "Напишите функцию date_range, которая возвращает список дней между датами start_date и end_date. Даты должны вводиться в формате YYYY-MM-DD."
   ]
  },
  {
   "cell_type": "code",
   "execution_count": 7,
   "metadata": {},
   "outputs": [
    {
     "name": "stdout",
     "output_type": "stream",
     "text": [
      "Введите начальную дату в формате YYYY-MM-DD : 2020-05-05\n",
      "Введите конечную дату в формате YYYY-MM-DD : 2020-05-10\n",
      "2020-05-05 00:00:00\n",
      "2020-05-06 00:00:00\n",
      "2020-05-07 00:00:00\n",
      "2020-05-08 00:00:00\n",
      "2020-05-09 00:00:00\n",
      "2020-05-10 00:00:00\n"
     ]
    }
   ],
   "source": [
    "from datetime import datetime\n",
    "from datetime import timedelta\n",
    "\n",
    "def date_range():\n",
    "    start_date = input('Введите начальную дату в формате YYYY-MM-DD : ')\n",
    "    end_date = input('Введите конечную дату в формате YYYY-MM-DD : ')\n",
    "    date_start = datetime.strptime(start_date, '%Y-%m-%d')\n",
    "    date_end = datetime.strptime(end_date, '%Y-%m-%d')\n",
    "#     print(date_start, date_end)\n",
    "\n",
    "    while date_start <= date_end:\n",
    "        print(date_start)\n",
    "        date_start += timedelta(days=1)\n",
    "    \n",
    "date_range()"
   ]
  },
  {
   "cell_type": "markdown",
   "metadata": {},
   "source": [
    "Задание 2\n",
    "Дополните функцию из первого задания проверкой на корректность дат. В случае неверного формата или если start_date > end_date должен возвращаться пустой список."
   ]
  },
  {
   "cell_type": "code",
   "execution_count": 4,
   "metadata": {},
   "outputs": [
    {
     "name": "stdout",
     "output_type": "stream",
     "text": [
      "Введите начальную дату в формате YYYY-MM-DD : 20-02-2020\n",
      "[]\n"
     ]
    }
   ],
   "source": [
    "from datetime import datetime\n",
    "from datetime import timedelta\n",
    "\n",
    "def date_range():\n",
    "    start_date = input('Введите начальную дату в формате YYYY-MM-DD : ')\n",
    "    try:\n",
    "        date_start = datetime.strptime(start_date, '%Y-%m-%d')\n",
    "    except ValueError:\n",
    "        return(print(list()))\n",
    "        \n",
    "    end_date = input('Введите конечную дату в формате YYYY-MM-DD : ')\n",
    "    try:\n",
    "        date_end = datetime.strptime(end_date, '%Y-%m-%d')\n",
    "    except ValueError:\n",
    "        return(print(list()))\n",
    "#     print(date_start, date_end)\n",
    "    \n",
    "    try:\n",
    "        while date_start <= date_end:\n",
    "            print(date_start)\n",
    "            date_start += timedelta(days=1)\n",
    "    except:\n",
    "        return(print(list()))\n",
    "\n",
    "    \n",
    "date_range()"
   ]
  },
  {
   "cell_type": "markdown",
   "metadata": {},
   "source": [
    "Задание 3\n",
    "Дан поток дат в формате YYYY-MM-DD, в которых встречаются некорректные значения:\n",
    "stream = [‘2018-04-02’, ‘2018-02-29’, ‘2018-19-02’]\n",
    "\n",
    "Напишите функцию, которая проверяет эти даты на корректность. Т. е. для каждой даты возвращает True (дата корректна) или False (некорректная дата)."
   ]
  },
  {
   "cell_type": "code",
   "execution_count": 10,
   "metadata": {},
   "outputs": [
    {
     "name": "stdout",
     "output_type": "stream",
     "text": [
      "True (дата корректна)\n",
      "False (некорректная дата)\n",
      "False (некорректная дата)\n"
     ]
    }
   ],
   "source": [
    "from datetime import datetime\n",
    "stream = ['2018-04-02', '2018-02-29', '2018-19-02']\n",
    "\n",
    "for test_date in stream:\n",
    "    try:\n",
    "        datetime.strptime(test_date, '%Y-%m-%d')\n",
    "        print('True (дата корректна)')\n",
    "    except ValueError:\n",
    "        print('False (некорректная дата)')\n"
   ]
  },
  {
   "cell_type": "markdown",
   "metadata": {},
   "source": [
    "Задание 4 (бонусное)\n",
    "Ваш коллега прислал код функции:\n",
    "\n",
    "DEFAULT_USER_COUNT = 3\n",
    "\n",
    "def delete_and_return_last_user(region, default_list=['A100', ‘A101’, ‘A102’]):\n",
    "\"\"“\n",
    "Удаляет из списка default_list последнего пользователя\n",
    "и возвращает ID нового последнего пользователя.\n",
    "”\"\"\n",
    "element_to_delete = default_list[-1]\n",
    "default_list.remove(element_to_delete)\n",
    "\n",
    "return default_list[DEFAULT_USER_COUNT-2]\n",
    "При однократном вызове этой функции все работает корректно:\n",
    "delete_and_return_last_user(1)\n",
    "‘A101’\n",
    "\n",
    "Однако, при повторном вызове получается ошибка IndexError: list index out of range.\n",
    "\n",
    "Задание:\n",
    "Что значит ошибка list index out of range?\n",
    "Почему при первом запуске функция работает корректно, а при втором - нет?"
   ]
  },
  {
   "cell_type": "code",
   "execution_count": 17,
   "metadata": {},
   "outputs": [
    {
     "data": {
      "text/plain": [
       "'A101'"
      ]
     },
     "execution_count": 17,
     "metadata": {},
     "output_type": "execute_result"
    }
   ],
   "source": [
    "DEFAULT_USER_COUNT = 3\n",
    "\n",
    "def delete_and_return_last_user(region, default_list=['A100', 'A101', 'A102']):\n",
    "    \"\"\"\n",
    "    Удаляет из списка default_list последнего пользователя\n",
    "    и возвращает ID нового последнего пользователя.\n",
    "    \"\"\"\n",
    "    element_to_delete = default_list[-1]\n",
    "    default_list.remove(element_to_delete)\n",
    "\n",
    "    return default_list[DEFAULT_USER_COUNT-2]\n",
    "delete_and_return_last_user(1)"
   ]
  },
  {
   "cell_type": "markdown",
   "metadata": {},
   "source": [
    "Ответ на 4 задание:\n",
    "\n",
    "Ошибка list index out of range означает, что мы пытаемся обратиться к элементу в списке по индексу, которого не существует, то есть в списке скорей всего меньше элементов.\n",
    "\n",
    "Возможно, при втором запуске после удаления А101 в списке останется только один элемент (с индексом 0), поэтому поиск элемента с индексом 1 будет выдавать ошибку.\n"
   ]
  }
 ],
 "metadata": {
  "kernelspec": {
   "display_name": "Python 3",
   "language": "python",
   "name": "python3"
  },
  "language_info": {
   "codemirror_mode": {
    "name": "ipython",
    "version": 3
   },
   "file_extension": ".py",
   "mimetype": "text/x-python",
   "name": "python",
   "nbconvert_exporter": "python",
   "pygments_lexer": "ipython3",
   "version": "3.7.6"
  }
 },
 "nbformat": 4,
 "nbformat_minor": 4
}
