{
 "cells": [
  {
   "cell_type": "markdown",
   "metadata": {},
   "source": [
    "Вы работаете секретарем и вам постоянно приходят различные документы. Вы должны быть очень внимательны, чтобы не потерять ни один документ. Каталог документов хранится в следующем виде:"
   ]
  },
  {
   "cell_type": "code",
   "execution_count": 170,
   "metadata": {},
   "outputs": [],
   "source": [
    "documents = [\n",
    "    {'type': 'passport', 'number': '2207 876234', 'name': 'Василий Гупкин'},\n",
    "    {'type': 'invoice', 'number': '11-2', 'name': 'Геннадий Покемонов'},\n",
    "    {'type': 'insurance', 'number': '10006', 'name': 'Аристарх Павлов'}\n",
    "]"
   ]
  },
  {
   "cell_type": "markdown",
   "metadata": {},
   "source": [
    "Перечень полок, на которых находятся документы хранится в следующем виде:"
   ]
  },
  {
   "cell_type": "code",
   "execution_count": 177,
   "metadata": {},
   "outputs": [],
   "source": [
    "directories = {\n",
    "    '1': ['2207 876234', '11-2'],\n",
    "    '2': ['10006'],\n",
    "    '3': []\n",
    "}"
   ]
  },
  {
   "cell_type": "markdown",
   "metadata": {},
   "source": [
    "Необходимо реализовать пользовательские команды (внимание! это не название функций, которые должны быть выразительными, а команды, которые вводит пользователь, чтобы получить необходимый результат):\n",
    "  \n",
    "- p – people – команда, которая спросит номер документа и выведет имя человека, которому он принадлежит;  \n",
    "- s – shelf – команда, которая спросит номер документа и выведет номер полки, на которой он находится  \n",
    "*Правильно обработайте ситуации, когда пользователь будет вводить несуществующий документ*.\n",
    "- l – list – команда, которая выведет список всех документов в формате   \n",
    "**passport \"2207 876234\" \"Василий Гупкин\"**  \n",
    "- as – add shelf – команда, которая спросит номер новой полки и добавит ее в перечень. *Предусмотрите случай, когда пользователь добавляет полку, которая уже существует*.\n",
    "- d – delete – команда, которая спросит номер документа и удалит его из каталога и из перечня полок. *Предусмотрите сценарий, когда пользователь вводит несуществующий документ*;  \n",
    "- m – move – команда, которая спросит номер документа и целевую полку и переместит его с текущей полки на целевую. *Корректно обработайте кейсы, когда пользователь пытается переместить несуществующий документ или переместить документ на несуществующую полку*;  \n",
    "- a – add – команда, которая добавит новый документ в каталог и в перечень полок, спросив его номер, тип, имя владельца и номер полки, на котором он будет храниться. *Корректно обработайте ситуацию, когда пользователь будет пытаться добавить документ на несуществующую полку*."
   ]
  },
  {
   "cell_type": "code",
   "execution_count": 186,
   "metadata": {},
   "outputs": [
    {
     "name": "stdout",
     "output_type": "stream",
     "text": [
      "Введите номер документа 11-2\n",
      "Геннадий Покемонов\n"
     ]
    }
   ],
   "source": [
    "# p – people – команда, которая спросит номер документа и выведет имя человека, которому он принадлежит\n",
    "\n",
    "def get_name():\n",
    "    doc_num = input('Введите номер документа ')\n",
    "    for doc in documents:\n",
    "        if doc_num == doc['number']:\n",
    "            print(doc['name'])\n",
    "\n",
    "get_name()"
   ]
  },
  {
   "cell_type": "code",
   "execution_count": 184,
   "metadata": {},
   "outputs": [
    {
     "name": "stdout",
     "output_type": "stream",
     "text": [
      "Введите номер документа 11-2\n",
      " Документ находится на полке номер 1\n"
     ]
    }
   ],
   "source": [
    "# s – shelf – команда, которая спросит номер документа и выведет номер полки, на которой он находится\n",
    "# Правильно обработайте ситуации, когда пользователь будет вводить несуществующий документ.\n",
    "\n",
    "def get_shelf():\n",
    "    doc_num = input('Введите номер документа ')\n",
    "    for key, value in directories.items():\n",
    "        if doc_num in value:\n",
    "            print(f' Документ находится на полке номер {key}')\n",
    "            break\n",
    "        else:\n",
    "            print('Такого документа не существует')\n",
    "            break\n",
    "\n",
    "get_shelf()"
   ]
  },
  {
   "cell_type": "code",
   "execution_count": 192,
   "metadata": {},
   "outputs": [
    {
     "name": "stdout",
     "output_type": "stream",
     "text": [
      "passport \"2207 876234\" \"Василий Гупкин\" \n",
      "invoice \"11-2\" \"Геннадий Покемонов\" \n",
      "insurance \"10006\" \"Аристарх Павлов\" \n"
     ]
    }
   ],
   "source": [
    "# l – list – команда, которая выведет список всех документов в формате\n",
    "# passport \"2207 876234\" \"Василий Гупкин\"\n",
    "\n",
    "def docs_list():\n",
    "    for doc in documents:\n",
    "#         print(doc['type'],doc['number'],doc['name'])\n",
    "        print(f\"{doc['type']} \\\"{doc['number']}\\\" \\\"{doc['name']}\\\" \")\n",
    "\n",
    "docs_list()      \n",
    "        "
   ]
  },
  {
   "cell_type": "code",
   "execution_count": 134,
   "metadata": {},
   "outputs": [
    {
     "name": "stdout",
     "output_type": "stream",
     "text": [
      "Введите новую полку 4\n",
      "Такая полка уже существует\n"
     ]
    }
   ],
   "source": [
    "# as – add shelf – команда, которая спросит номер новой полки и добавит ее в перечень. \n",
    "# Предусмотрите случай, когда пользователь добавляет полку, которая уже существует.\n",
    "\n",
    "def add_shelf():\n",
    "    new_key = input('Введите новую полку ')\n",
    "    if new_key in directories.keys():\n",
    "        print('Такая полка уже существует')\n",
    "    else:\n",
    "        directories[new_key]=[]\n",
    "#     print(directories)\n",
    "        print('Новая полка добавлена')\n",
    "\n",
    "add_shelf()"
   ]
  },
  {
   "cell_type": "code",
   "execution_count": 142,
   "metadata": {},
   "outputs": [
    {
     "name": "stdout",
     "output_type": "stream",
     "text": [
      "Введите номер документа 123\n",
      "Такого документа не существует\n"
     ]
    }
   ],
   "source": [
    "# d – delete – команда, которая спросит номер документа и удалит его из каталога и из перечня полок. \n",
    "# Предусмотрите сценарий, когда пользователь вводит несуществующий документ\n",
    "\n",
    "def delete_doc():\n",
    "    doc_num = input('Введите номер документа ')\n",
    "    shelf = ''   # номер полки с документом\n",
    "    index1 = ''  # индекс строки с документом\n",
    "    index2 = ''  # индекс документа на найденной полке\n",
    "    all_docs = []  # сюда соберем номера всех документов, чтобы проверить, существует ли запрашиваемый номер\n",
    "\n",
    "    for value in directories.values():\n",
    "        all_docs += value\n",
    "    if doc_num not in all_docs:\n",
    "        print('Такого документа не существует')\n",
    "    else:\n",
    "        for doc in documents:\n",
    "            if doc_num == doc['number']:\n",
    "                index1 = documents.index(doc)\n",
    "                break\n",
    "        del documents[index1]\n",
    "                \n",
    "        for key, value in directories.items():\n",
    "            if doc_num in value:\n",
    "                shelf = key\n",
    "                index2 = value.index(doc_num)\n",
    "                break\n",
    "        del(directories[shelf][index2])\n",
    "        print(f'Документ {doc_num} удален')\n",
    "        \n",
    "delete_doc()\n",
    "# print(directories)\n",
    "# print(documents)\n"
   ]
  },
  {
   "cell_type": "code",
   "execution_count": 176,
   "metadata": {},
   "outputs": [
    {
     "name": "stdout",
     "output_type": "stream",
     "text": [
      "Введите номер документа 11-2\n",
      "Введите номер полки 3\n",
      "Документ 11-2 успешно перенесен на полку номер 3\n"
     ]
    }
   ],
   "source": [
    "# m – move – команда, которая спросит номер документа и целевую полку и переместит его с текущей полки на целевую. \n",
    "# Корректно обработайте кейсы, когда пользователь пытается переместить несуществующий документ \n",
    "# или переместить документ на несуществующую полку\n",
    "\n",
    "def move():\n",
    "    all_docs = []\n",
    "    all_keys = []\n",
    "    doc_num = input('Введите номер документа ')\n",
    "    shelf_num = input('Введите номер полки ')\n",
    "\n",
    "    for value in directories.values():\n",
    "        all_docs += value\n",
    "    if doc_num not in all_docs:\n",
    "        print('Такого документа не существует')\n",
    "    \n",
    "    for key in directories.keys():\n",
    "        all_keys += key\n",
    "    if shelf_num not in all_keys:\n",
    "        print('Такой полки не существует')  \n",
    "\n",
    "    for key, value in directories.items():\n",
    "        if doc_num in value:\n",
    "            shelf = key\n",
    "            index2 = value.index(doc_num)\n",
    "            break\n",
    "    del(directories[shelf][index2])\n",
    "    directories[shelf_num].append(doc_num)\n",
    "    print(f'Документ {doc_num} успешно перенесен на полку номер {shelf_num}')\n",
    "\n",
    "move()"
   ]
  },
  {
   "cell_type": "code",
   "execution_count": 167,
   "metadata": {},
   "outputs": [],
   "source": [
    "# a – add – команда, которая добавит новый документ в каталог и в перечень полок, \n",
    "#     спросив его номер, тип, имя владельца и номер полки, на котором он будет храниться. \n",
    "# Корректно обработайте ситуацию, когда пользователь будет пытаться добавить документ на несуществующую полку\n",
    "\n",
    "def add_doc():\n",
    "    all_keys = []\n",
    "    shelf_num = input('Введите номер полки, куда добавить новый документ ')\n",
    "    doc_type = input('Введите тип нового документа ')\n",
    "    doc_num_new = input('Введите номер нового документа ')\n",
    "    name_new = input('Введите имя владельца ')\n",
    "\n",
    "    for key in directories.keys():\n",
    "        all_keys += key\n",
    "    if shelf_num not in all_keys:\n",
    "        print('Такой полки не существует')\n",
    "\n",
    "    documents.append({'type': doc_type, 'number': doc_num_new, 'name': name_new})\n",
    "    directories[shelf_num].append(doc_num_new)\n",
    "    print('Новый документ успешно добавлен')\n"
   ]
  },
  {
   "cell_type": "code",
   "execution_count": 189,
   "metadata": {},
   "outputs": [
    {
     "name": "stdout",
     "output_type": "stream",
     "text": [
      "Возможные команды: \n",
      "p – узнать имя владельца документа по номеру\n",
      "s – узнать номер полки, на которой находится документ\n",
      "l – список всех документов\n",
      "as – добавить новую полку\n",
      "d – удалить документ из каталога и полок\n",
      "m – переместить документ на другу полку по номеру документа\n",
      "a – добавить новый документ в каталог и в перечень полок\n",
      "Введите команду, которую хотите выполнить o\n",
      "Такая команда невозможна\n"
     ]
    }
   ],
   "source": [
    "def main():\n",
    "    print('Возможные команды: ')\n",
    "    print('p – узнать имя владельца документа по номеру')\n",
    "    print('s – узнать номер полки, на которой находится документ')\n",
    "    print('l – список всех документов')\n",
    "    print('as – добавить новую полку')\n",
    "    print('d – удалить документ из каталога и полок')\n",
    "    print('m – переместить документ на другу полку по номеру документа')\n",
    "    print('a – добавить новый документ в каталог и в перечень полок')\n",
    "    function = input('Введите команду, которую хотите выполнить ')\n",
    "\n",
    "    if function == 'p':\n",
    "        get_name()\n",
    "    elif function == 's':\n",
    "        get_shelf()\n",
    "    elif function == 'l':\n",
    "        doc_list()\n",
    "    elif function == 'as':\n",
    "        add_shelf()\n",
    "    elif function == 'd':\n",
    "        delete_doc()\n",
    "    elif function == 'm':\n",
    "        move()\n",
    "    elif function == 'a':\n",
    "        add_doc()\n",
    "    else:\n",
    "        print('Такая команда невозможна')\n",
    "\n",
    "main()"
   ]
  },
  {
   "cell_type": "code",
   "execution_count": null,
   "metadata": {},
   "outputs": [],
   "source": []
  }
 ],
 "metadata": {
  "kernelspec": {
   "display_name": "Python 3",
   "language": "python",
   "name": "python3"
  },
  "language_info": {
   "codemirror_mode": {
    "name": "ipython",
    "version": 3
   },
   "file_extension": ".py",
   "mimetype": "text/x-python",
   "name": "python",
   "nbconvert_exporter": "python",
   "pygments_lexer": "ipython3",
   "version": "3.7.6"
  }
 },
 "nbformat": 4,
 "nbformat_minor": 2
}
