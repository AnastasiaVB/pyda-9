{
 "cells": [
  {
   "cell_type": "markdown",
   "metadata": {},
   "source": [
    "# Что сегодня сделаем\n",
    "Библиотеку для получения курсов валют в 2 строки"
   ]
  },
  {
   "cell_type": "code",
   "execution_count": 1,
   "metadata": {},
   "outputs": [],
   "source": [
    "from libs.exchange import Rate"
   ]
  },
  {
   "cell_type": "code",
   "execution_count": 2,
   "metadata": {},
   "outputs": [
    {
     "data": {
      "text/plain": [
       "73.2056"
      ]
     },
     "execution_count": 2,
     "metadata": {},
     "output_type": "execute_result"
    }
   ],
   "source": [
    "Rate().usd()"
   ]
  },
  {
   "cell_type": "code",
   "execution_count": 3,
   "metadata": {
    "scrolled": true
   },
   "outputs": [
    {
     "data": {
      "text/plain": [
       "{'ID': 'R01020A',\n",
       " 'NumCode': '944',\n",
       " 'CharCode': 'AZN',\n",
       " 'Nominal': 1,\n",
       " 'Name': 'Азербайджанский манат',\n",
       " 'Value': 42.7903,\n",
       " 'Previous': 43.2136}"
      ]
     },
     "execution_count": 3,
     "metadata": {},
     "output_type": "execute_result"
    }
   ],
   "source": [
    "Rate('full').AZN()"
   ]
  },
  {
   "cell_type": "markdown",
   "metadata": {},
   "source": [
    "### Упражнение\n",
    "Дана строка со значениями, которые разделены запятыми:"
   ]
  },
  {
   "cell_type": "code",
   "execution_count": 4,
   "metadata": {},
   "outputs": [],
   "source": [
    "line = '2019-07-01,organic,4293'"
   ]
  },
  {
   "cell_type": "markdown",
   "metadata": {},
   "source": [
    "**Задача**\n",
    "\n",
    "Напишите функцию column_count, которая возвращает число столбцов в такой строке\n",
    "\n",
    "**Подсказка**\n",
    "\n",
    "Можно перевести эту строку в список с помощью метода split: line.split(','). И затем посчитать количество элементов в нем (функция len)"
   ]
  },
  {
   "cell_type": "code",
   "execution_count": 8,
   "metadata": {},
   "outputs": [],
   "source": [
    "line = '2019-07-01,organic,4293'"
   ]
  },
  {
   "cell_type": "code",
   "execution_count": 10,
   "metadata": {},
   "outputs": [
    {
     "data": {
      "text/plain": [
       "3"
      ]
     },
     "execution_count": 10,
     "metadata": {},
     "output_type": "execute_result"
    }
   ],
   "source": [
    "len(line.split(','))"
   ]
  },
  {
   "cell_type": "code",
   "execution_count": 5,
   "metadata": {},
   "outputs": [],
   "source": [
    "def column_count(line):\n",
    "    return len(line.split(','))"
   ]
  },
  {
   "cell_type": "code",
   "execution_count": 6,
   "metadata": {},
   "outputs": [
    {
     "data": {
      "text/plain": [
       "3"
      ]
     },
     "execution_count": 6,
     "metadata": {},
     "output_type": "execute_result"
    }
   ],
   "source": [
    "column_count(line)"
   ]
  },
  {
   "cell_type": "code",
   "execution_count": 16,
   "metadata": {},
   "outputs": [
    {
     "data": {
      "text/plain": [
       "3"
      ]
     },
     "execution_count": 16,
     "metadata": {},
     "output_type": "execute_result"
    }
   ],
   "source": [
    "def column_count(line, count_zero_lines=True):\n",
    "    if line and count_zero_lines:\n",
    "        list_line = line.split(',')\n",
    "        return len(list_line)\n",
    "    else:\n",
    "        return 0\n",
    "column_count(line)"
   ]
  },
  {
   "cell_type": "code",
   "execution_count": 17,
   "metadata": {},
   "outputs": [
    {
     "data": {
      "text/plain": [
       "0"
      ]
     },
     "execution_count": 17,
     "metadata": {},
     "output_type": "execute_result"
    }
   ],
   "source": [
    "column_count('')"
   ]
  },
  {
   "cell_type": "code",
   "execution_count": null,
   "metadata": {},
   "outputs": [],
   "source": []
  },
  {
   "cell_type": "markdown",
   "metadata": {},
   "source": [
    "# Классы\n",
    "Пример использования переменной в разных методах"
   ]
  },
  {
   "cell_type": "code",
   "execution_count": 4,
   "metadata": {},
   "outputs": [],
   "source": [
    "class AnyName:\n",
    "    def method_1(self):\n",
    "        self.currency = 'usd'\n",
    "    \n",
    "    def method_2(self):\n",
    "        print(self.currency)"
   ]
  },
  {
   "cell_type": "code",
   "execution_count": 5,
   "metadata": {},
   "outputs": [],
   "source": [
    "a = AnyName()"
   ]
  },
  {
   "cell_type": "code",
   "execution_count": 6,
   "metadata": {},
   "outputs": [],
   "source": [
    "a.method_1()"
   ]
  },
  {
   "cell_type": "code",
   "execution_count": 7,
   "metadata": {},
   "outputs": [],
   "source": [
    "a.currency = '123'"
   ]
  },
  {
   "cell_type": "code",
   "execution_count": 8,
   "metadata": {},
   "outputs": [
    {
     "name": "stdout",
     "output_type": "stream",
     "text": [
      "123\n"
     ]
    }
   ],
   "source": [
    "a.method_2()"
   ]
  },
  {
   "cell_type": "markdown",
   "metadata": {},
   "source": [
    "### Метод __init__"
   ]
  },
  {
   "cell_type": "code",
   "execution_count": 9,
   "metadata": {},
   "outputs": [],
   "source": [
    "# метод __init__ выполняется при вызове класса\n",
    "\n",
    "class Rate:\n",
    "    def __init__(self):\n",
    "        self.format = 'value'\n",
    "        print(self.format)"
   ]
  },
  {
   "cell_type": "code",
   "execution_count": 10,
   "metadata": {
    "scrolled": true
   },
   "outputs": [
    {
     "name": "stdout",
     "output_type": "stream",
     "text": [
      "value\n"
     ]
    }
   ],
   "source": [
    "r = Rate()"
   ]
  },
  {
   "cell_type": "code",
   "execution_count": 11,
   "metadata": {},
   "outputs": [
    {
     "data": {
      "text/plain": [
       "'value'"
      ]
     },
     "execution_count": 11,
     "metadata": {},
     "output_type": "execute_result"
    }
   ],
   "source": [
    "r.format"
   ]
  },
  {
   "cell_type": "markdown",
   "metadata": {},
   "source": [
    "### Класс для курсов валют"
   ]
  },
  {
   "cell_type": "code",
   "execution_count": 12,
   "metadata": {},
   "outputs": [],
   "source": [
    "class Rate:\n",
    "    def __init__(self):\n",
    "        self.format = 'value'\n",
    "    \n",
    "    def show_current_format(self):\n",
    "        return self.format"
   ]
  },
  {
   "cell_type": "code",
   "execution_count": 13,
   "metadata": {},
   "outputs": [],
   "source": [
    "r = Rate()"
   ]
  },
  {
   "cell_type": "code",
   "execution_count": 14,
   "metadata": {},
   "outputs": [],
   "source": [
    "r.format = 'Full'"
   ]
  },
  {
   "cell_type": "code",
   "execution_count": 15,
   "metadata": {},
   "outputs": [
    {
     "data": {
      "text/plain": [
       "'Full'"
      ]
     },
     "execution_count": 15,
     "metadata": {},
     "output_type": "execute_result"
    }
   ],
   "source": [
    "r.show_current_format()"
   ]
  },
  {
   "cell_type": "markdown",
   "metadata": {},
   "source": [
    "Пример инициализации со значением переменной"
   ]
  },
  {
   "cell_type": "code",
   "execution_count": 16,
   "metadata": {},
   "outputs": [],
   "source": [
    "class Rate:\n",
    "    def __init__(self, format_):\n",
    "        self.format = format_\n",
    "    \n",
    "    def show_current_format(self):\n",
    "        return self.format"
   ]
  },
  {
   "cell_type": "code",
   "execution_count": 17,
   "metadata": {},
   "outputs": [],
   "source": [
    "r = Rate(format_='123')"
   ]
  },
  {
   "cell_type": "code",
   "execution_count": 18,
   "metadata": {},
   "outputs": [
    {
     "data": {
      "text/plain": [
       "'123'"
      ]
     },
     "execution_count": 18,
     "metadata": {},
     "output_type": "execute_result"
    }
   ],
   "source": [
    "r.show_current_format()"
   ]
  },
  {
   "cell_type": "markdown",
   "metadata": {},
   "source": [
    "Или сразу со значением по умолчанию"
   ]
  },
  {
   "cell_type": "code",
   "execution_count": 19,
   "metadata": {},
   "outputs": [],
   "source": [
    "class Rate:\n",
    "    def __init__(self, format_='value'):\n",
    "        self.format = format_\n",
    "    \n",
    "    def show_current_format(self):\n",
    "        return self.format"
   ]
  },
  {
   "cell_type": "code",
   "execution_count": 20,
   "metadata": {},
   "outputs": [
    {
     "data": {
      "text/plain": [
       "'value'"
      ]
     },
     "execution_count": 20,
     "metadata": {},
     "output_type": "execute_result"
    }
   ],
   "source": [
    "r = Rate()\n",
    "r.show_current_format()"
   ]
  },
  {
   "cell_type": "code",
   "execution_count": 21,
   "metadata": {},
   "outputs": [
    {
     "data": {
      "text/plain": [
       "'full'"
      ]
     },
     "execution_count": 21,
     "metadata": {},
     "output_type": "execute_result"
    }
   ],
   "source": [
    "r_full = Rate(format_='full')\n",
    "r_full.show_current_format()"
   ]
  },
  {
   "cell_type": "code",
   "execution_count": 22,
   "metadata": {},
   "outputs": [
    {
     "data": {
      "text/plain": [
       "'full_123'"
      ]
     },
     "execution_count": 22,
     "metadata": {},
     "output_type": "execute_result"
    }
   ],
   "source": [
    "# значения переменных класса можно менять\n",
    "\n",
    "r.format = 'full_123'\n",
    "r.show_current_format()"
   ]
  },
  {
   "cell_type": "markdown",
   "metadata": {},
   "source": [
    "### Упражнение\n",
    "Создайте класс сотрудника Employee. При инициализации класса задается имя сотрудника name и его текущая зарплата salary. Напишите следующие методы:\n",
    "1. Метод up, который увеличивает зарплату сотрудника на 100\n",
    "2. Метод print, который выводит на экран текущую зарплату сотрудника в формате \"Сотрудник Иван, зарплата 100\""
   ]
  },
  {
   "cell_type": "code",
   "execution_count": 23,
   "metadata": {},
   "outputs": [],
   "source": [
    "class Employee:\n",
    "    def __init__(self, name='', salary=0):\n",
    "        try:\n",
    "            self.name = name\n",
    "            self.salary = float(salary)\n",
    "        except:\n",
    "            print('Некорректные данные')\n",
    "    \n",
    "    def up(self):\n",
    "        self.salary += 100\n",
    "        \n",
    "    def print(self):\n",
    "        print(f'Сотрудник {self.name}, зарплата {self.salary}')"
   ]
  },
  {
   "cell_type": "code",
   "execution_count": 24,
   "metadata": {},
   "outputs": [],
   "source": [
    "ivan = Employee(name='Ivan', salary=0)"
   ]
  },
  {
   "cell_type": "code",
   "execution_count": 25,
   "metadata": {},
   "outputs": [
    {
     "name": "stdout",
     "output_type": "stream",
     "text": [
      "Сотрудник Ivan, зарплата 100.0\n"
     ]
    }
   ],
   "source": [
    "ivan.up()\n",
    "ivan.print()"
   ]
  },
  {
   "cell_type": "code",
   "execution_count": 26,
   "metadata": {},
   "outputs": [],
   "source": [
    "class Employee:\n",
    "    def __init__(self, name_ = 'Ivan', salary_ = 500):\n",
    "        self.name = name_\n",
    "        self.salary = salary_\n",
    "    def method_up(self):\n",
    "        self.salary += 100\n",
    "        print(f'Новая зарплата  {self.name} -  {self.salary}' )\n",
    "    def method_print(self):\n",
    "        print(f'Сотрудник {self.name} , зарплата {self.salary}')"
   ]
  },
  {
   "cell_type": "code",
   "execution_count": 27,
   "metadata": {},
   "outputs": [],
   "source": [
    "ivan = Employee()"
   ]
  },
  {
   "cell_type": "code",
   "execution_count": 28,
   "metadata": {},
   "outputs": [
    {
     "name": "stdout",
     "output_type": "stream",
     "text": [
      "Новая зарплата  Ivan -  600\n",
      "Сотрудник Ivan , зарплата 600\n"
     ]
    }
   ],
   "source": [
    "ivan.method_up()\n",
    "ivan.method_print()"
   ]
  },
  {
   "cell_type": "code",
   "execution_count": 29,
   "metadata": {},
   "outputs": [],
   "source": [
    "elena = Employee(name_ = 'Elena', salary_ = 650)"
   ]
  },
  {
   "cell_type": "code",
   "execution_count": null,
   "metadata": {},
   "outputs": [],
   "source": [
    "class GameObject():\n",
    "    def move()\n",
    "    \n",
    "    def attack()\n",
    "    \n",
    "    def level_up()"
   ]
  },
  {
   "cell_type": "code",
   "execution_count": null,
   "metadata": {},
   "outputs": [],
   "source": [
    "class Human"
   ]
  },
  {
   "cell_type": "code",
   "execution_count": null,
   "metadata": {},
   "outputs": [],
   "source": [
    "class Elf"
   ]
  },
  {
   "cell_type": "code",
   "execution_count": null,
   "metadata": {},
   "outputs": [],
   "source": [
    "class Ork"
   ]
  },
  {
   "cell_type": "code",
   "execution_count": null,
   "metadata": {},
   "outputs": [],
   "source": []
  },
  {
   "cell_type": "markdown",
   "metadata": {},
   "source": [
    "### Полная версия класса"
   ]
  },
  {
   "cell_type": "code",
   "execution_count": 39,
   "metadata": {},
   "outputs": [],
   "source": [
    "import requests"
   ]
  },
  {
   "cell_type": "code",
   "execution_count": 14,
   "metadata": {},
   "outputs": [],
   "source": [
    "class Rate:\n",
    "    \"\"\"\n",
    "    \n",
    "    \"\"\"\n",
    "    def __init__(self, format_='value', diff=False):\n",
    "        self.format = format_\n",
    "        self.diff = diff\n",
    "    \n",
    "    def exchange_rates(self):\n",
    "        \"\"\"\n",
    "        Возвращает ответ сервиса с информацией о валютах в виде:\n",
    "        \n",
    "        {\n",
    "            'AMD': {\n",
    "                'CharCode': 'AMD',\n",
    "                'ID': 'R01060',\n",
    "                'Name': 'Армянских драмов',\n",
    "                'Nominal': 100,\n",
    "                'NumCode': '051',\n",
    "                'Previous': 14.103,\n",
    "                'Value': 14.0879\n",
    "                },\n",
    "            ...\n",
    "        }\n",
    "        \"\"\"\n",
    "        self.r = requests.get('https://www.cbr-xml-daily.ru/daily_json.js')\n",
    "        return self.r.json()['Valute']\n",
    "    \n",
    "    def make_format(self, currency):\n",
    "        \"\"\"\n",
    "        Возвращает информацию о валюте currency в двух вариантах:\n",
    "        - полная информация о валюте при self.format = 'full':\n",
    "        Rate('full').make_format('EUR')\n",
    "        {\n",
    "            'CharCode': 'EUR',\n",
    "            'ID': 'R01239',\n",
    "            'Name': 'Евро',\n",
    "            'Nominal': 1,\n",
    "            'NumCode': '978',\n",
    "            'Previous': 79.6765,\n",
    "            'Value': 79.4966\n",
    "        }\n",
    "        \n",
    "        Rate('value').make_format('EUR')\n",
    "        79.4966\n",
    "        \"\"\"\n",
    "        response = self.exchange_rates()\n",
    "        \n",
    "        if currency in response:\n",
    "            if self.format == 'full':\n",
    "                return response[currency]\n",
    "            \n",
    "            if self.format == 'value':\n",
    "                if self.diff == False:\n",
    "                    return response[currency]['Value']\n",
    "                elif self.diff == True:\n",
    "                    return response[currency]['Value'] - response[currency]['Previous']\n",
    "        \n",
    "        return 'Error'\n",
    "    \n",
    "    def eur(self):\n",
    "        \"\"\"Возвращает курс евро на сегодня в формате self.format\"\"\"\n",
    "        return self.make_format('EUR')\n",
    "    \n",
    "    def usd(self):\n",
    "        \"\"\"Возвращает курс доллара на сегодня в формате self.format\"\"\"\n",
    "        return self.make_format('USD')\n",
    "    \n",
    "    def brl(self):\n",
    "        \"\"\"Возвращает курс бразильского реала на сегодня в формате self.format\"\"\"\n",
    "        return self.make_format('BRL')"
   ]
  },
  {
   "cell_type": "code",
   "execution_count": 15,
   "metadata": {},
   "outputs": [
    {
     "data": {
      "text/plain": [
       "-0.7754000000000048"
      ]
     },
     "execution_count": 15,
     "metadata": {},
     "output_type": "execute_result"
    }
   ],
   "source": [
    "r = Rate(format_='value',diff=True)\n",
    "r.eur()"
   ]
  },
  {
   "cell_type": "code",
   "execution_count": 2,
   "metadata": {},
   "outputs": [
    {
     "name": "stdout",
     "output_type": "stream",
     "text": [
      "СДР (специальные права заимствования)\n"
     ]
    }
   ],
   "source": [
    "import requests\n",
    "\n",
    "def max_curr():\n",
    "    r = requests.get('https://www.cbr-xml-daily.ru/daily_json.js')\n",
    "    info = r.json()['Valute']\n",
    "    max_value = 0\n",
    "    max_name = ''\n",
    "    for value in info.values():\n",
    "        if value['Value'] > max_value:\n",
    "#             max_value = value['Value']\n",
    "            max_name = value['Name']\n",
    "    print(max_name)\n",
    "        \n",
    "max_curr()"
   ]
  },
  {
   "cell_type": "code",
   "execution_count": 42,
   "metadata": {},
   "outputs": [
    {
     "data": {
      "text/plain": [
       "79.1279"
      ]
     },
     "execution_count": 42,
     "metadata": {},
     "output_type": "execute_result"
    }
   ],
   "source": [
    "r.eur()"
   ]
  },
  {
   "cell_type": "code",
   "execution_count": 43,
   "metadata": {},
   "outputs": [],
   "source": [
    "r = Rate()"
   ]
  },
  {
   "cell_type": "code",
   "execution_count": 46,
   "metadata": {},
   "outputs": [
    {
     "data": {
      "text/plain": [
       "{'AUD': {'ID': 'R01010',\n",
       "  'NumCode': '036',\n",
       "  'CharCode': 'AUD',\n",
       "  'Nominal': 1,\n",
       "  'Name': 'Австралийский доллар',\n",
       "  'Value': 47.2908,\n",
       "  'Previous': 47.6182},\n",
       " 'AZN': {'ID': 'R01020A',\n",
       "  'NumCode': '944',\n",
       "  'CharCode': 'AZN',\n",
       "  'Nominal': 1,\n",
       "  'Name': 'Азербайджанский манат',\n",
       "  'Value': 42.7903,\n",
       "  'Previous': 43.2136},\n",
       " 'GBP': {'ID': 'R01035',\n",
       "  'NumCode': '826',\n",
       "  'CharCode': 'GBP',\n",
       "  'Nominal': 1,\n",
       "  'Name': 'Фунт стерлингов Соединенного королевства',\n",
       "  'Value': 89.384,\n",
       "  'Previous': 90.2683},\n",
       " 'AMD': {'ID': 'R01060',\n",
       "  'NumCode': '051',\n",
       "  'CharCode': 'AMD',\n",
       "  'Nominal': 100,\n",
       "  'Name': 'Армянских драмов',\n",
       "  'Value': 15.0104,\n",
       "  'Previous': 15.1601},\n",
       " 'BYN': {'ID': 'R01090B',\n",
       "  'NumCode': '933',\n",
       "  'CharCode': 'BYN',\n",
       "  'Nominal': 1,\n",
       "  'Name': 'Белорусский рубль',\n",
       "  'Value': 29.9385,\n",
       "  'Previous': 30.1385},\n",
       " 'BGN': {'ID': 'R01100',\n",
       "  'NumCode': '975',\n",
       "  'CharCode': 'BGN',\n",
       "  'Nominal': 1,\n",
       "  'Name': 'Болгарский лев',\n",
       "  'Value': 40.4786,\n",
       "  'Previous': 40.8768},\n",
       " 'BRL': {'ID': 'R01115',\n",
       "  'NumCode': '986',\n",
       "  'CharCode': 'BRL',\n",
       "  'Nominal': 1,\n",
       "  'Name': 'Бразильский реал',\n",
       "  'Value': 12.5978,\n",
       "  'Previous': 12.5581},\n",
       " 'HUF': {'ID': 'R01135',\n",
       "  'NumCode': '348',\n",
       "  'CharCode': 'HUF',\n",
       "  'Nominal': 100,\n",
       "  'Name': 'Венгерских форинтов',\n",
       "  'Value': 22.3805,\n",
       "  'Previous': 22.563},\n",
       " 'HKD': {'ID': 'R01200',\n",
       "  'NumCode': '344',\n",
       "  'CharCode': 'HKD',\n",
       "  'Nominal': 10,\n",
       "  'Name': 'Гонконгских долларов',\n",
       "  'Value': 94.443,\n",
       "  'Previous': 95.3859},\n",
       " 'DKK': {'ID': 'R01215',\n",
       "  'NumCode': '208',\n",
       "  'CharCode': 'DKK',\n",
       "  'Nominal': 1,\n",
       "  'Name': 'Датская крона',\n",
       "  'Value': 10.6161,\n",
       "  'Previous': 10.7221},\n",
       " 'USD': {'ID': 'R01235',\n",
       "  'NumCode': '840',\n",
       "  'CharCode': 'USD',\n",
       "  'Nominal': 1,\n",
       "  'Name': 'Доллар США',\n",
       "  'Value': 73.2056,\n",
       "  'Previous': 73.9298},\n",
       " 'EUR': {'ID': 'R01239',\n",
       "  'NumCode': '978',\n",
       "  'CharCode': 'EUR',\n",
       "  'Nominal': 1,\n",
       "  'Name': 'Евро',\n",
       "  'Value': 79.1279,\n",
       "  'Previous': 79.9033},\n",
       " 'INR': {'ID': 'R01270',\n",
       "  'NumCode': '356',\n",
       "  'CharCode': 'INR',\n",
       "  'Nominal': 100,\n",
       "  'Name': 'Индийских рупий',\n",
       "  'Value': 96.8648,\n",
       "  'Previous': 97.8393},\n",
       " 'KZT': {'ID': 'R01335',\n",
       "  'NumCode': '398',\n",
       "  'CharCode': 'KZT',\n",
       "  'Nominal': 100,\n",
       "  'Name': 'Казахстанских тенге',\n",
       "  'Value': 17.4108,\n",
       "  'Previous': 17.475},\n",
       " 'CAD': {'ID': 'R01350',\n",
       "  'NumCode': '124',\n",
       "  'CharCode': 'CAD',\n",
       "  'Nominal': 1,\n",
       "  'Name': 'Канадский доллар',\n",
       "  'Value': 52.1185,\n",
       "  'Previous': 52.4585},\n",
       " 'KGS': {'ID': 'R01370',\n",
       "  'NumCode': '417',\n",
       "  'CharCode': 'KGS',\n",
       "  'Nominal': 100,\n",
       "  'Name': 'Киргизских сомов',\n",
       "  'Value': 95.0722,\n",
       "  'Previous': 96.0536},\n",
       " 'CNY': {'ID': 'R01375',\n",
       "  'NumCode': '156',\n",
       "  'CharCode': 'CNY',\n",
       "  'Nominal': 1,\n",
       "  'Name': 'Китайский юань',\n",
       "  'Value': 10.3108,\n",
       "  'Previous': 10.4206},\n",
       " 'MDL': {'ID': 'R01500',\n",
       "  'NumCode': '498',\n",
       "  'CharCode': 'MDL',\n",
       "  'Nominal': 10,\n",
       "  'Name': 'Молдавских леев',\n",
       "  'Value': 41.1267,\n",
       "  'Previous': 41.5336},\n",
       " 'NOK': {'ID': 'R01535',\n",
       "  'NumCode': '578',\n",
       "  'CharCode': 'NOK',\n",
       "  'Nominal': 10,\n",
       "  'Name': 'Норвежских крон',\n",
       "  'Value': 72.1159,\n",
       "  'Previous': 72.6904},\n",
       " 'PLN': {'ID': 'R01565',\n",
       "  'NumCode': '985',\n",
       "  'CharCode': 'PLN',\n",
       "  'Nominal': 1,\n",
       "  'Name': 'Польский злотый',\n",
       "  'Value': 17.3761,\n",
       "  'Previous': 17.4936},\n",
       " 'RON': {'ID': 'R01585F',\n",
       "  'NumCode': '946',\n",
       "  'CharCode': 'RON',\n",
       "  'Nominal': 1,\n",
       "  'Name': 'Румынский лей',\n",
       "  'Value': 16.3603,\n",
       "  'Previous': 16.5299},\n",
       " 'XDR': {'ID': 'R01589',\n",
       "  'NumCode': '960',\n",
       "  'CharCode': 'XDR',\n",
       "  'Nominal': 1,\n",
       "  'Name': 'СДР (специальные права заимствования)',\n",
       "  'Value': 99.4666,\n",
       "  'Previous': 100.7456},\n",
       " 'SGD': {'ID': 'R01625',\n",
       "  'NumCode': '702',\n",
       "  'CharCode': 'SGD',\n",
       "  'Nominal': 1,\n",
       "  'Name': 'Сингапурский доллар',\n",
       "  'Value': 51.4301,\n",
       "  'Previous': 52.0266},\n",
       " 'TJS': {'ID': 'R01670',\n",
       "  'NumCode': '972',\n",
       "  'CharCode': 'TJS',\n",
       "  'Nominal': 10,\n",
       "  'Name': 'Таджикских сомони',\n",
       "  'Value': 71.3157,\n",
       "  'Previous': 72.0563},\n",
       " 'TRY': {'ID': 'R01700J',\n",
       "  'NumCode': '949',\n",
       "  'CharCode': 'TRY',\n",
       "  'Nominal': 1,\n",
       "  'Name': 'Турецкая лира',\n",
       "  'Value': 10.5831,\n",
       "  'Previous': 10.6166},\n",
       " 'TMT': {'ID': 'R01710A',\n",
       "  'NumCode': '934',\n",
       "  'CharCode': 'TMT',\n",
       "  'Nominal': 1,\n",
       "  'Name': 'Новый туркменский манат',\n",
       "  'Value': 20.9458,\n",
       "  'Previous': 21.153},\n",
       " 'UZS': {'ID': 'R01717',\n",
       "  'NumCode': '860',\n",
       "  'CharCode': 'UZS',\n",
       "  'Nominal': 10000,\n",
       "  'Name': 'Узбекских сумов',\n",
       "  'Value': 72.1593,\n",
       "  'Previous': 72.9296},\n",
       " 'UAH': {'ID': 'R01720',\n",
       "  'NumCode': '980',\n",
       "  'CharCode': 'UAH',\n",
       "  'Nominal': 10,\n",
       "  'Name': 'Украинских гривен',\n",
       "  'Value': 27.4836,\n",
       "  'Previous': 27.7208},\n",
       " 'CZK': {'ID': 'R01760',\n",
       "  'NumCode': '203',\n",
       "  'CharCode': 'CZK',\n",
       "  'Nominal': 10,\n",
       "  'Name': 'Чешских крон',\n",
       "  'Value': 28.8325,\n",
       "  'Previous': 29.0126},\n",
       " 'SEK': {'ID': 'R01770',\n",
       "  'NumCode': '752',\n",
       "  'CharCode': 'SEK',\n",
       "  'Nominal': 10,\n",
       "  'Name': 'Шведских крон',\n",
       "  'Value': 74.5809,\n",
       "  'Previous': 75.2535},\n",
       " 'CHF': {'ID': 'R01775',\n",
       "  'NumCode': '756',\n",
       "  'CharCode': 'CHF',\n",
       "  'Nominal': 1,\n",
       "  'Name': 'Швейцарский франк',\n",
       "  'Value': 75.237,\n",
       "  'Previous': 76.0125},\n",
       " 'ZAR': {'ID': 'R01810',\n",
       "  'NumCode': '710',\n",
       "  'CharCode': 'ZAR',\n",
       "  'Nominal': 10,\n",
       "  'Name': 'Южноафриканских рэндов',\n",
       "  'Value': 39.7824,\n",
       "  'Previous': 39.7838},\n",
       " 'KRW': {'ID': 'R01815',\n",
       "  'NumCode': '410',\n",
       "  'CharCode': 'KRW',\n",
       "  'Nominal': 1000,\n",
       "  'Name': 'Вон Республики Корея',\n",
       "  'Value': 59.4795,\n",
       "  'Previous': 60.2245},\n",
       " 'JPY': {'ID': 'R01820',\n",
       "  'NumCode': '392',\n",
       "  'CharCode': 'JPY',\n",
       "  'Nominal': 100,\n",
       "  'Name': 'Японских иен',\n",
       "  'Value': 68.3813,\n",
       "  'Previous': 69.1935}}"
      ]
     },
     "execution_count": 46,
     "metadata": {},
     "output_type": "execute_result"
    }
   ],
   "source": [
    "r.exchange_rates()"
   ]
  },
  {
   "cell_type": "markdown",
   "metadata": {},
   "source": [
    "Документация необходима почти всем методам"
   ]
  },
  {
   "cell_type": "code",
   "execution_count": 45,
   "metadata": {},
   "outputs": [],
   "source": [
    "?r.exchange_rates"
   ]
  },
  {
   "cell_type": "markdown",
   "metadata": {},
   "source": [
    "# Система повышения сотрудников"
   ]
  },
  {
   "cell_type": "markdown",
   "metadata": {},
   "source": [
    "### Упражнение\n",
    "Создайте класс Employee. При инициализации указываются имя сотрудника (name) и трудовой стаж в пройденных аккредитациях (seniority). Напишите метод init, в котором задаются соответствующие переменные - self.name и self.seniority."
   ]
  },
  {
   "cell_type": "code",
   "execution_count": null,
   "metadata": {},
   "outputs": [],
   "source": []
  },
  {
   "cell_type": "code",
   "execution_count": null,
   "metadata": {},
   "outputs": [],
   "source": []
  },
  {
   "cell_type": "code",
   "execution_count": null,
   "metadata": {},
   "outputs": [],
   "source": []
  },
  {
   "cell_type": "markdown",
   "metadata": {},
   "source": [
    "### Упражнение\n",
    "Заведите переменную self.grade при инициализации класса со значением 0. Добавьте метод grade_up, который увеличивает это значение на 1. На всякий случай - этот метод может ничего не возвращать, только изменять переменную."
   ]
  },
  {
   "cell_type": "code",
   "execution_count": null,
   "metadata": {},
   "outputs": [],
   "source": []
  },
  {
   "cell_type": "code",
   "execution_count": null,
   "metadata": {},
   "outputs": [],
   "source": []
  },
  {
   "cell_type": "code",
   "execution_count": null,
   "metadata": {},
   "outputs": [],
   "source": []
  },
  {
   "cell_type": "markdown",
   "metadata": {},
   "source": [
    "# Наследование"
   ]
  },
  {
   "cell_type": "markdown",
   "metadata": {},
   "source": [
    "Разработчикам финансового департамента помимо курса надо работать с кодами валют. Как сохранить сохранить разработку класса Rate у нас, а полезные функции передать финансистам?"
   ]
  },
  {
   "cell_type": "code",
   "execution_count": 76,
   "metadata": {},
   "outputs": [],
   "source": [
    "class CurrencyCodes(Rate):\n",
    "    def __init__(self):\n",
    "        super().__init__(format_='full')"
   ]
  },
  {
   "cell_type": "markdown",
   "metadata": {},
   "source": [
    "Теперь классу CurrencyCodes доступны все методы класса Rate. Можем продолжать разработку в нужном направлении."
   ]
  },
  {
   "cell_type": "code",
   "execution_count": 77,
   "metadata": {},
   "outputs": [],
   "source": [
    "cc = CurrencyCodes()"
   ]
  },
  {
   "cell_type": "code",
   "execution_count": 78,
   "metadata": {},
   "outputs": [
    {
     "data": {
      "text/plain": [
       "{'ID': 'R01235',\n",
       " 'NumCode': '840',\n",
       " 'CharCode': 'USD',\n",
       " 'Nominal': 1,\n",
       " 'Name': 'Доллар США',\n",
       " 'Value': 73.4326,\n",
       " 'Previous': 73.8725}"
      ]
     },
     "execution_count": 78,
     "metadata": {},
     "output_type": "execute_result"
    }
   ],
   "source": [
    "CurrencyCodes().usd()"
   ]
  },
  {
   "cell_type": "markdown",
   "metadata": {},
   "source": [
    "Допишем в класс что-нибудь свое новенькое"
   ]
  },
  {
   "cell_type": "code",
   "execution_count": 79,
   "metadata": {},
   "outputs": [],
   "source": [
    "class CurrencyCodes(Rate):\n",
    "    def __init__(self):\n",
    "        super().__init__(format_='full')\n",
    "    \n",
    "    def currency_id(self, currency):\n",
    "        \"\"\"Получение идентификатора валюты\"\"\"\n",
    "        return self.make_format(currency)['ID']"
   ]
  },
  {
   "cell_type": "code",
   "execution_count": 85,
   "metadata": {},
   "outputs": [],
   "source": [
    "currency = CurrencyCodes()"
   ]
  },
  {
   "cell_type": "code",
   "execution_count": 86,
   "metadata": {},
   "outputs": [
    {
     "data": {
      "text/plain": [
       "{'ID': 'R01235',\n",
       " 'NumCode': '840',\n",
       " 'CharCode': 'USD',\n",
       " 'Nominal': 1,\n",
       " 'Name': 'Доллар США',\n",
       " 'Value': 73.4326,\n",
       " 'Previous': 73.8725}"
      ]
     },
     "execution_count": 86,
     "metadata": {},
     "output_type": "execute_result"
    }
   ],
   "source": [
    "currency.make_format('USD')"
   ]
  },
  {
   "cell_type": "code",
   "execution_count": 81,
   "metadata": {},
   "outputs": [
    {
     "data": {
      "text/plain": [
       "'R01235'"
      ]
     },
     "execution_count": 81,
     "metadata": {},
     "output_type": "execute_result"
    }
   ],
   "source": [
    "currency.currency_id('USD')"
   ]
  },
  {
   "cell_type": "markdown",
   "metadata": {},
   "source": [
    "# Система повышения сотрудников\n",
    "Пригодится для домашнего задания"
   ]
  },
  {
   "cell_type": "code",
   "execution_count": 16,
   "metadata": {},
   "outputs": [],
   "source": [
    "class Employee:\n",
    "    def __init__(self, name, seniority):\n",
    "        self.name = name\n",
    "        self.seniority = seniority\n",
    "        \n",
    "        self.grade = 1\n",
    "    \n",
    "    def grade_up(self):\n",
    "        \"\"\"Повышает уровень сотрудника\"\"\"\n",
    "        self.grade += 1\n",
    "    \n",
    "    def publish_grade(self):\n",
    "        \"\"\"Публикация результатов аккредитации сотрудников\"\"\"\n",
    "        print(self.name, self.grade)\n",
    "    \n",
    "    def check_if_it_is_time_for_upgrade(self):\n",
    "        pass"
   ]
  },
  {
   "cell_type": "code",
   "execution_count": 17,
   "metadata": {},
   "outputs": [],
   "source": [
    "class Developer(Employee):\n",
    "    def __init__(self, name, seniority):\n",
    "        super().__init__(name, seniority)\n",
    "    \n",
    "    def check_if_it_is_time_for_upgrade(self):\n",
    "        # для каждой аккредитации увеличиваем счетчик на 1\n",
    "        # пока считаем, что все разработчики проходят аккредитацию\n",
    "        self.seniority += 1\n",
    "        \n",
    "        # условие повышения сотрудника из презентации\n",
    "        if self.seniority % 5 == 0:\n",
    "            self.grade_up()\n",
    "        \n",
    "        # публикация результатов\n",
    "        return self.publish_grade()"
   ]
  },
  {
   "cell_type": "code",
   "execution_count": 21,
   "metadata": {},
   "outputs": [],
   "source": [
    "class Designer(Employee):\n",
    "    def __init__(self, name, seniority, awards):\n",
    "        super().__init__(name, seniority)\n",
    "        self.awards = awards\n",
    "        self.seniority += self.awards * 2\n",
    "    \n",
    "    def check_if_it_is_time_for_upgrade(self):\n",
    "        # для каждой аккредитации увеличиваем счетчик на 1\n",
    "        # пока считаем, что все разработчики проходят аккредитацию\n",
    "        self.seniority += 1\n",
    "        \n",
    "        # условие повышения сотрудника из презентации\n",
    "        if self.seniority % 7 == 0:\n",
    "            self.grade_up()\n",
    "        \n",
    "        # публикация результатов\n",
    "        return self.publish_grade()"
   ]
  },
  {
   "cell_type": "code",
   "execution_count": 88,
   "metadata": {},
   "outputs": [],
   "source": [
    "# проверяем как работает система повышения сотрудников на примере отдела разработки\n",
    "\n",
    "# разработчик Александр только что пришел в компанию\n",
    "alex = Developer('Александр', 0)"
   ]
  },
  {
   "cell_type": "code",
   "execution_count": 90,
   "metadata": {},
   "outputs": [
    {
     "data": {
      "text/plain": [
       "(1, 'Александр')"
      ]
     },
     "execution_count": 90,
     "metadata": {},
     "output_type": "execute_result"
    }
   ],
   "source": [
    "alex.grade, alex.name, alex."
   ]
  },
  {
   "cell_type": "code",
   "execution_count": 91,
   "metadata": {},
   "outputs": [
    {
     "name": "stdout",
     "output_type": "stream",
     "text": [
      "Александр 1\n",
      "Александр 1\n",
      "Александр 1\n",
      "Александр 1\n",
      "Александр 2\n",
      "Александр 2\n",
      "Александр 2\n",
      "Александр 2\n",
      "Александр 2\n",
      "Александр 3\n",
      "Александр 3\n",
      "Александр 3\n",
      "Александр 3\n",
      "Александр 3\n",
      "Александр 4\n",
      "Александр 4\n",
      "Александр 4\n",
      "Александр 4\n",
      "Александр 4\n",
      "Александр 5\n"
     ]
    }
   ],
   "source": [
    "for i in range(20):\n",
    "    alex.check_if_it_is_time_for_upgrade()"
   ]
  },
  {
   "cell_type": "markdown",
   "metadata": {},
   "source": [
    "# Домашнее задание задача 3\n",
    "\n",
    "Напишите класс Designer, который учитывает количество международных премий для дизайнеров (из презентации: \"Повышение на 1 грейд за каждые 7 баллов. Получение международной премии – это +2 балла\"). Считайте, что при выходе на работу сотрудник уже имеет две премии и их количество не меняется со стажем (конечно если хотите это можно вручную менять). Выполните проверку для 20 аккредитаций дизайнера Елены.\n",
    "\n",
    "Для проверки используйте код:"
   ]
  },
  {
   "cell_type": "code",
   "execution_count": 22,
   "metadata": {},
   "outputs": [],
   "source": [
    "elena = Designer('Елена', seniority=0, awards=2)"
   ]
  },
  {
   "cell_type": "code",
   "execution_count": 23,
   "metadata": {},
   "outputs": [
    {
     "name": "stdout",
     "output_type": "stream",
     "text": [
      "Елена 1\n",
      "Елена 1\n",
      "Елена 2\n",
      "Елена 2\n",
      "Елена 2\n",
      "Елена 2\n",
      "Елена 2\n",
      "Елена 2\n",
      "Елена 2\n",
      "Елена 3\n",
      "Елена 3\n",
      "Елена 3\n",
      "Елена 3\n",
      "Елена 3\n",
      "Елена 3\n",
      "Елена 3\n",
      "Елена 4\n",
      "Елена 4\n",
      "Елена 4\n",
      "Елена 4\n"
     ]
    }
   ],
   "source": [
    "for i in range(20):\n",
    "    elena.check_if_it_is_time_for_upgrade()"
   ]
  },
  {
   "cell_type": "code",
   "execution_count": null,
   "metadata": {},
   "outputs": [],
   "source": []
  },
  {
   "cell_type": "markdown",
   "metadata": {},
   "source": [
    "# Импорт классов и функций"
   ]
  },
  {
   "cell_type": "code",
   "execution_count": 92,
   "metadata": {},
   "outputs": [],
   "source": [
    "from libs.exchange import my_sum"
   ]
  },
  {
   "cell_type": "code",
   "execution_count": null,
   "metadata": {},
   "outputs": [],
   "source": [
    "from datetime import datetime"
   ]
  },
  {
   "cell_type": "code",
   "execution_count": null,
   "metadata": {},
   "outputs": [],
   "source": [
    "datetime.strptime()"
   ]
  },
  {
   "cell_type": "code",
   "execution_count": null,
   "metadata": {},
   "outputs": [],
   "source": [
    "my_sum(1, 2)"
   ]
  },
  {
   "cell_type": "code",
   "execution_count": 93,
   "metadata": {},
   "outputs": [],
   "source": [
    "from libs.exchange import Rate"
   ]
  },
  {
   "cell_type": "code",
   "execution_count": 94,
   "metadata": {},
   "outputs": [
    {
     "data": {
      "text/plain": [
       "43.2848"
      ]
     },
     "execution_count": 94,
     "metadata": {},
     "output_type": "execute_result"
    }
   ],
   "source": [
    "Rate().AZN()"
   ]
  },
  {
   "cell_type": "code",
   "execution_count": null,
   "metadata": {},
   "outputs": [],
   "source": [
    "# такой способ импорта крайне не рекомендуется\n",
    "from libs.exchange import *"
   ]
  },
  {
   "cell_type": "markdown",
   "metadata": {},
   "source": [
    "Если библиотека лежит в произвольной папке"
   ]
  },
  {
   "cell_type": "code",
   "execution_count": null,
   "metadata": {},
   "outputs": [],
   "source": [
    "import sys\n",
    "sys.path.append('адрес_папки_с_файлами')"
   ]
  },
  {
   "cell_type": "code",
   "execution_count": 95,
   "metadata": {},
   "outputs": [
    {
     "data": {
      "text/plain": [
       "['/Users/kbashevoy/Desktop/Нетология/Занятия/Занятие 8',\n",
       " '/Users/kbashevoy/anaconda3/lib/python37.zip',\n",
       " '/Users/kbashevoy/anaconda3/lib/python3.7',\n",
       " '/Users/kbashevoy/anaconda3/lib/python3.7/lib-dynload',\n",
       " '',\n",
       " '/Users/kbashevoy/.local/lib/python3.7/site-packages',\n",
       " '/Users/kbashevoy/anaconda3/lib/python3.7/site-packages',\n",
       " '/Users/kbashevoy/anaconda3/lib/python3.7/site-packages/aeosa',\n",
       " '/Users/kbashevoy/anaconda3/lib/python3.7/site-packages/IPython/extensions',\n",
       " '/Users/kbashevoy/.ipython']"
      ]
     },
     "execution_count": 95,
     "metadata": {},
     "output_type": "execute_result"
    }
   ],
   "source": [
    "import sys\n",
    "sys.path"
   ]
  },
  {
   "cell_type": "code",
   "execution_count": 96,
   "metadata": {},
   "outputs": [],
   "source": [
    "# пример\n",
    "\n",
    "import sys\n",
    "sys.path.append('/Users/kbashevoy/Downloads/rate_lib')"
   ]
  },
  {
   "cell_type": "code",
   "execution_count": 97,
   "metadata": {
    "scrolled": true
   },
   "outputs": [
    {
     "data": {
      "text/plain": [
       "['/Users/kbashevoy/Desktop/Нетология/Занятия/Занятие 8',\n",
       " '/Users/kbashevoy/anaconda3/lib/python37.zip',\n",
       " '/Users/kbashevoy/anaconda3/lib/python3.7',\n",
       " '/Users/kbashevoy/anaconda3/lib/python3.7/lib-dynload',\n",
       " '',\n",
       " '/Users/kbashevoy/.local/lib/python3.7/site-packages',\n",
       " '/Users/kbashevoy/anaconda3/lib/python3.7/site-packages',\n",
       " '/Users/kbashevoy/anaconda3/lib/python3.7/site-packages/aeosa',\n",
       " '/Users/kbashevoy/anaconda3/lib/python3.7/site-packages/IPython/extensions',\n",
       " '/Users/kbashevoy/.ipython',\n",
       " '/Users/kbashevoy/Desktop/Нетология/Занятия/Занятие 8/libs']"
      ]
     },
     "execution_count": 97,
     "metadata": {},
     "output_type": "execute_result"
    }
   ],
   "source": [
    "sys.path"
   ]
  },
  {
   "cell_type": "code",
   "execution_count": 98,
   "metadata": {},
   "outputs": [],
   "source": [
    "from exchange import my_sum"
   ]
  },
  {
   "cell_type": "code",
   "execution_count": 99,
   "metadata": {},
   "outputs": [
    {
     "data": {
      "text/plain": [
       "6"
      ]
     },
     "execution_count": 99,
     "metadata": {},
     "output_type": "execute_result"
    }
   ],
   "source": [
    "my_sum(3, 3)"
   ]
  }
 ],
 "metadata": {
  "kernelspec": {
   "display_name": "Python 3",
   "language": "python",
   "name": "python3"
  },
  "language_info": {
   "codemirror_mode": {
    "name": "ipython",
    "version": 3
   },
   "file_extension": ".py",
   "mimetype": "text/x-python",
   "name": "python",
   "nbconvert_exporter": "python",
   "pygments_lexer": "ipython3",
   "version": "3.7.6"
  }
 },
 "nbformat": 4,
 "nbformat_minor": 2
}
